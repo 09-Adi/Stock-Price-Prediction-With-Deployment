{
 "cells": [
  {
   "cell_type": "markdown",
   "id": "489044b3",
   "metadata": {},
   "source": [
    "+ In This File we have used Scaled dataset for our models\n",
    "+ Models in this file are listed below\n",
    "    + 1). Exponential Smoothing Model\n",
    "    + 2). Prophet Model\n",
    "    + 3). Auto Ensemble Model(in it we have used Exponential Smoothing Model and Prophet Model)"
   ]
  },
  {
   "cell_type": "code",
   "execution_count": 1,
   "id": "9e0843a5",
   "metadata": {},
   "outputs": [],
   "source": [
    "import shutup\n",
    "shutup.please()"
   ]
  },
  {
   "cell_type": "code",
   "execution_count": 2,
   "id": "bc4370f4",
   "metadata": {},
   "outputs": [],
   "source": [
    "import pandas as pd\n",
    "import numpy as np\n",
    "import matplotlib.pyplot as plt\n",
    "import seaborn as sns\n",
    "import plotly\n",
    "import plotly.offline as py\n",
    "import plotly.graph_objects as go\n",
    "\n",
    "%matplotlib inline"
   ]
  },
  {
   "cell_type": "code",
   "execution_count": 3,
   "id": "f2fc927e",
   "metadata": {},
   "outputs": [],
   "source": [
    "import plotly.io as pio\n",
    "# For interactive graph Uncomment \" pio.renderers.default = 'notebook' \" and and comment \" pio.renderers.default = 'png' \"\n",
    "# And then rerun the file on Jupyter Notebook\n",
    "\n",
    "\n",
    "# pio.renderers.default = 'notebook'\n",
    "pio.renderers.default = 'png'"
   ]
  },
  {
   "cell_type": "code",
   "execution_count": 4,
   "id": "4b0e9b77",
   "metadata": {},
   "outputs": [
    {
     "data": {
      "text/html": [
       "<div>\n",
       "<style scoped>\n",
       "    .dataframe tbody tr th:only-of-type {\n",
       "        vertical-align: middle;\n",
       "    }\n",
       "\n",
       "    .dataframe tbody tr th {\n",
       "        vertical-align: top;\n",
       "    }\n",
       "\n",
       "    .dataframe thead th {\n",
       "        text-align: right;\n",
       "    }\n",
       "</style>\n",
       "<table border=\"1\" class=\"dataframe\">\n",
       "  <thead>\n",
       "    <tr style=\"text-align: right;\">\n",
       "      <th></th>\n",
       "      <th>Open</th>\n",
       "      <th>High</th>\n",
       "      <th>Low</th>\n",
       "      <th>Close</th>\n",
       "      <th>Volume</th>\n",
       "      <th>Dividends</th>\n",
       "      <th>Stock Splits</th>\n",
       "    </tr>\n",
       "    <tr>\n",
       "      <th>Date</th>\n",
       "      <th></th>\n",
       "      <th></th>\n",
       "      <th></th>\n",
       "      <th></th>\n",
       "      <th></th>\n",
       "      <th></th>\n",
       "      <th></th>\n",
       "    </tr>\n",
       "  </thead>\n",
       "  <tbody>\n",
       "    <tr>\n",
       "      <th>2011-01-03</th>\n",
       "      <td>3315.502203</td>\n",
       "      <td>3334.762854</td>\n",
       "      <td>3282.076883</td>\n",
       "      <td>3313.040771</td>\n",
       "      <td>5256</td>\n",
       "      <td>0.0</td>\n",
       "      <td>0</td>\n",
       "    </tr>\n",
       "    <tr>\n",
       "      <th>2011-01-04</th>\n",
       "      <td>3312.306866</td>\n",
       "      <td>3368.361206</td>\n",
       "      <td>3282.077208</td>\n",
       "      <td>3361.192627</td>\n",
       "      <td>21916</td>\n",
       "      <td>0.0</td>\n",
       "      <td>0</td>\n",
       "    </tr>\n",
       "    <tr>\n",
       "      <th>2011-01-05</th>\n",
       "      <td>3345.990302</td>\n",
       "      <td>3398.633035</td>\n",
       "      <td>3330.875478</td>\n",
       "      <td>3369.267090</td>\n",
       "      <td>32381</td>\n",
       "      <td>0.0</td>\n",
       "      <td>0</td>\n",
       "    </tr>\n",
       "    <tr>\n",
       "      <th>2011-01-06</th>\n",
       "      <td>3368.446713</td>\n",
       "      <td>3410.768223</td>\n",
       "      <td>3286.394806</td>\n",
       "      <td>3311.269531</td>\n",
       "      <td>16829</td>\n",
       "      <td>0.0</td>\n",
       "      <td>0</td>\n",
       "    </tr>\n",
       "    <tr>\n",
       "      <th>2011-01-07</th>\n",
       "      <td>3290.713555</td>\n",
       "      <td>3342.535815</td>\n",
       "      <td>3257.892789</td>\n",
       "      <td>3273.396240</td>\n",
       "      <td>30854</td>\n",
       "      <td>0.0</td>\n",
       "      <td>0</td>\n",
       "    </tr>\n",
       "  </tbody>\n",
       "</table>\n",
       "</div>"
      ],
      "text/plain": [
       "                   Open         High          Low        Close  Volume  \\\n",
       "Date                                                                     \n",
       "2011-01-03  3315.502203  3334.762854  3282.076883  3313.040771    5256   \n",
       "2011-01-04  3312.306866  3368.361206  3282.077208  3361.192627   21916   \n",
       "2011-01-05  3345.990302  3398.633035  3330.875478  3369.267090   32381   \n",
       "2011-01-06  3368.446713  3410.768223  3286.394806  3311.269531   16829   \n",
       "2011-01-07  3290.713555  3342.535815  3257.892789  3273.396240   30854   \n",
       "\n",
       "            Dividends  Stock Splits  \n",
       "Date                                 \n",
       "2011-01-03        0.0             0  \n",
       "2011-01-04        0.0             0  \n",
       "2011-01-05        0.0             0  \n",
       "2011-01-06        0.0             0  \n",
       "2011-01-07        0.0             0  "
      ]
     },
     "execution_count": 4,
     "metadata": {},
     "output_type": "execute_result"
    }
   ],
   "source": [
    "# Extract Data from yfinance\n",
    "import yfinance as yf\n",
    "import datetime as dttm\n",
    "\n",
    "startDate = dttm.datetime(2011, 1, 1)\n",
    "endDate = dttm.datetime(2022, 7, 1)\n",
    "\n",
    "GetData = yf.Ticker(\"NESTLEIND.NS\")\n",
    "# print(GetData.history(start=startDate, end=endDate))\n",
    "\n",
    "yf_data = pd.DataFrame(GetData.history(start=startDate, end=endDate))\n",
    "yf_data.head()"
   ]
  },
  {
   "cell_type": "code",
   "execution_count": 5,
   "id": "2ba6d565",
   "metadata": {},
   "outputs": [
    {
     "data": {
      "text/html": [
       "<div>\n",
       "<style scoped>\n",
       "    .dataframe tbody tr th:only-of-type {\n",
       "        vertical-align: middle;\n",
       "    }\n",
       "\n",
       "    .dataframe tbody tr th {\n",
       "        vertical-align: top;\n",
       "    }\n",
       "\n",
       "    .dataframe thead th {\n",
       "        text-align: right;\n",
       "    }\n",
       "</style>\n",
       "<table border=\"1\" class=\"dataframe\">\n",
       "  <thead>\n",
       "    <tr style=\"text-align: right;\">\n",
       "      <th></th>\n",
       "      <th>Open</th>\n",
       "      <th>High</th>\n",
       "      <th>Low</th>\n",
       "      <th>Close</th>\n",
       "      <th>Volume</th>\n",
       "      <th>Dividends</th>\n",
       "      <th>Stock Splits</th>\n",
       "    </tr>\n",
       "    <tr>\n",
       "      <th>Date</th>\n",
       "      <th></th>\n",
       "      <th></th>\n",
       "      <th></th>\n",
       "      <th></th>\n",
       "      <th></th>\n",
       "      <th></th>\n",
       "      <th></th>\n",
       "    </tr>\n",
       "  </thead>\n",
       "  <tbody>\n",
       "    <tr>\n",
       "      <th>2011-01-03</th>\n",
       "      <td>3315.502203</td>\n",
       "      <td>3334.762854</td>\n",
       "      <td>3282.076883</td>\n",
       "      <td>3313.040771</td>\n",
       "      <td>5256.0</td>\n",
       "      <td>0.0</td>\n",
       "      <td>0.0</td>\n",
       "    </tr>\n",
       "    <tr>\n",
       "      <th>2011-01-04</th>\n",
       "      <td>3312.306866</td>\n",
       "      <td>3368.361206</td>\n",
       "      <td>3282.077208</td>\n",
       "      <td>3361.192627</td>\n",
       "      <td>21916.0</td>\n",
       "      <td>0.0</td>\n",
       "      <td>0.0</td>\n",
       "    </tr>\n",
       "    <tr>\n",
       "      <th>2011-01-05</th>\n",
       "      <td>3345.990302</td>\n",
       "      <td>3398.633035</td>\n",
       "      <td>3330.875478</td>\n",
       "      <td>3369.267090</td>\n",
       "      <td>32381.0</td>\n",
       "      <td>0.0</td>\n",
       "      <td>0.0</td>\n",
       "    </tr>\n",
       "    <tr>\n",
       "      <th>2011-01-06</th>\n",
       "      <td>3368.446713</td>\n",
       "      <td>3410.768223</td>\n",
       "      <td>3286.394806</td>\n",
       "      <td>3311.269531</td>\n",
       "      <td>16829.0</td>\n",
       "      <td>0.0</td>\n",
       "      <td>0.0</td>\n",
       "    </tr>\n",
       "    <tr>\n",
       "      <th>2011-01-07</th>\n",
       "      <td>3290.713555</td>\n",
       "      <td>3342.535815</td>\n",
       "      <td>3257.892789</td>\n",
       "      <td>3273.396240</td>\n",
       "      <td>30854.0</td>\n",
       "      <td>0.0</td>\n",
       "      <td>0.0</td>\n",
       "    </tr>\n",
       "  </tbody>\n",
       "</table>\n",
       "</div>"
      ],
      "text/plain": [
       "                   Open         High          Low        Close   Volume  \\\n",
       "Date                                                                      \n",
       "2011-01-03  3315.502203  3334.762854  3282.076883  3313.040771   5256.0   \n",
       "2011-01-04  3312.306866  3368.361206  3282.077208  3361.192627  21916.0   \n",
       "2011-01-05  3345.990302  3398.633035  3330.875478  3369.267090  32381.0   \n",
       "2011-01-06  3368.446713  3410.768223  3286.394806  3311.269531  16829.0   \n",
       "2011-01-07  3290.713555  3342.535815  3257.892789  3273.396240  30854.0   \n",
       "\n",
       "            Dividends  Stock Splits  \n",
       "Date                                 \n",
       "2011-01-03        0.0           0.0  \n",
       "2011-01-04        0.0           0.0  \n",
       "2011-01-05        0.0           0.0  \n",
       "2011-01-06        0.0           0.0  \n",
       "2011-01-07        0.0           0.0  "
      ]
     },
     "execution_count": 5,
     "metadata": {},
     "output_type": "execute_result"
    }
   ],
   "source": [
    "data = yf_data.copy()\n",
    "data = data.asfreq('B')\n",
    "data.head()"
   ]
  },
  {
   "cell_type": "code",
   "execution_count": 6,
   "id": "75c53d6f",
   "metadata": {},
   "outputs": [
    {
     "data": {
      "text/plain": [
       "(2999, 7)"
      ]
     },
     "execution_count": 6,
     "metadata": {},
     "output_type": "execute_result"
    }
   ],
   "source": [
    "data.shape"
   ]
  },
  {
   "cell_type": "code",
   "execution_count": 7,
   "id": "c0e0c3b5",
   "metadata": {},
   "outputs": [],
   "source": [
    "data.ffill(inplace=True)"
   ]
  },
  {
   "cell_type": "code",
   "execution_count": 8,
   "id": "0ddfebc8",
   "metadata": {},
   "outputs": [
    {
     "data": {
      "text/plain": [
       "Open            0\n",
       "High            0\n",
       "Low             0\n",
       "Close           0\n",
       "Volume          0\n",
       "Dividends       0\n",
       "Stock Splits    0\n",
       "dtype: int64"
      ]
     },
     "execution_count": 8,
     "metadata": {},
     "output_type": "execute_result"
    }
   ],
   "source": [
    "data.isnull().sum()"
   ]
  },
  {
   "cell_type": "code",
   "execution_count": 9,
   "id": "77c84547",
   "metadata": {},
   "outputs": [
    {
     "data": {
      "text/html": [
       "<div>\n",
       "<style scoped>\n",
       "    .dataframe tbody tr th:only-of-type {\n",
       "        vertical-align: middle;\n",
       "    }\n",
       "\n",
       "    .dataframe tbody tr th {\n",
       "        vertical-align: top;\n",
       "    }\n",
       "\n",
       "    .dataframe thead th {\n",
       "        text-align: right;\n",
       "    }\n",
       "</style>\n",
       "<table border=\"1\" class=\"dataframe\">\n",
       "  <thead>\n",
       "    <tr style=\"text-align: right;\">\n",
       "      <th></th>\n",
       "      <th>Close</th>\n",
       "    </tr>\n",
       "    <tr>\n",
       "      <th>Date</th>\n",
       "      <th></th>\n",
       "    </tr>\n",
       "  </thead>\n",
       "  <tbody>\n",
       "    <tr>\n",
       "      <th>2011-01-03</th>\n",
       "      <td>3313.040771</td>\n",
       "    </tr>\n",
       "    <tr>\n",
       "      <th>2011-01-04</th>\n",
       "      <td>3361.192627</td>\n",
       "    </tr>\n",
       "    <tr>\n",
       "      <th>2011-01-05</th>\n",
       "      <td>3369.267090</td>\n",
       "    </tr>\n",
       "    <tr>\n",
       "      <th>2011-01-06</th>\n",
       "      <td>3311.269531</td>\n",
       "    </tr>\n",
       "    <tr>\n",
       "      <th>2011-01-07</th>\n",
       "      <td>3273.396240</td>\n",
       "    </tr>\n",
       "  </tbody>\n",
       "</table>\n",
       "</div>"
      ],
      "text/plain": [
       "                  Close\n",
       "Date                   \n",
       "2011-01-03  3313.040771\n",
       "2011-01-04  3361.192627\n",
       "2011-01-05  3369.267090\n",
       "2011-01-06  3311.269531\n",
       "2011-01-07  3273.396240"
      ]
     },
     "execution_count": 9,
     "metadata": {},
     "output_type": "execute_result"
    }
   ],
   "source": [
    "final_data = pd.DataFrame(data.Close)\n",
    "final_data.head()"
   ]
  },
  {
   "cell_type": "code",
   "execution_count": 10,
   "id": "5d192418",
   "metadata": {},
   "outputs": [],
   "source": [
    "n =final_data['2020-01-01':'2022-06-30'].count()"
   ]
  },
  {
   "cell_type": "code",
   "execution_count": 11,
   "id": "5c04a9ea",
   "metadata": {},
   "outputs": [
    {
     "data": {
      "text/plain": [
       "((2347, 1), (652, 1))"
      ]
     },
     "execution_count": 11,
     "metadata": {},
     "output_type": "execute_result"
    }
   ],
   "source": [
    "train_data = final_data.iloc[:len(final_data)-652] \n",
    "test_data = final_data.iloc[len(final_data)-652:]\n",
    "train_data.shape, test_data.shape"
   ]
  },
  {
   "cell_type": "code",
   "execution_count": 12,
   "id": "7d3e98c8",
   "metadata": {},
   "outputs": [
    {
     "data": {
      "text/plain": [
       "(                   Close\n",
       " Date                    \n",
       " 2020-01-01  14215.091797\n",
       " 2020-01-02  14167.288086\n",
       " 2020-01-03  14036.717773\n",
       " 2020-01-06  13866.520508\n",
       " 2020-01-07  13745.424805\n",
       " ...                  ...\n",
       " 2022-06-24  17231.650391\n",
       " 2022-06-27  17358.250000\n",
       " 2022-06-28  17403.900391\n",
       " 2022-06-29  17499.050781\n",
       " 2022-06-30  17470.000000\n",
       " \n",
       " [652 rows x 1 columns],\n",
       "                    Close\n",
       " Date                    \n",
       " 2011-01-03   3313.040771\n",
       " 2011-01-04   3361.192627\n",
       " 2011-01-05   3369.267090\n",
       " 2011-01-06   3311.269531\n",
       " 2011-01-07   3273.396240\n",
       " ...                  ...\n",
       " 2019-12-25  14029.409180\n",
       " 2019-12-26  14042.153320\n",
       " 2019-12-27  14104.576172\n",
       " 2019-12-30  14285.163086\n",
       " 2019-12-31  14221.150391\n",
       " \n",
       " [2347 rows x 1 columns])"
      ]
     },
     "execution_count": 12,
     "metadata": {},
     "output_type": "execute_result"
    }
   ],
   "source": [
    "test_data, train_data"
   ]
  },
  {
   "cell_type": "code",
   "execution_count": 13,
   "id": "0c450e05",
   "metadata": {},
   "outputs": [],
   "source": [
    "from sklearn.metrics import mean_squared_error\n",
    "\n",
    "def error(data1, data2):\n",
    "    mse = mean_squared_error(data1, data2)\n",
    "    rmse = np.sqrt(mse)\n",
    "    \n",
    "    print('Errors :-')\n",
    "    print('MSE : ',mse)\n",
    "    print('RMSE : ',rmse,'\\n')\n",
    "    return mse, rmse"
   ]
  },
  {
   "cell_type": "markdown",
   "id": "c8d5aa31",
   "metadata": {},
   "source": [
    "# Data Transformation"
   ]
  },
  {
   "cell_type": "code",
   "execution_count": 14,
   "id": "b67e6eb8",
   "metadata": {},
   "outputs": [],
   "source": [
    "from sklearn.preprocessing import MinMaxScaler"
   ]
  },
  {
   "cell_type": "code",
   "execution_count": 15,
   "id": "bae0b5ac",
   "metadata": {},
   "outputs": [],
   "source": [
    "scaler = MinMaxScaler(feature_range=(0.001,1))\n",
    "train_data_minmax = scaler.fit_transform(np.array(train_data).reshape(-1,1))"
   ]
  },
  {
   "cell_type": "code",
   "execution_count": 16,
   "id": "652989f2",
   "metadata": {},
   "outputs": [
    {
     "data": {
      "text/plain": [
       "array([[0.04812574],\n",
       "       [0.05226319],\n",
       "       [0.05295699],\n",
       "       ...,\n",
       "       [0.97538746],\n",
       "       [0.99090438],\n",
       "       [0.98540409]])"
      ]
     },
     "execution_count": 16,
     "metadata": {},
     "output_type": "execute_result"
    }
   ],
   "source": [
    "train_data_minmax"
   ]
  },
  {
   "cell_type": "code",
   "execution_count": 17,
   "id": "71caaa0f",
   "metadata": {},
   "outputs": [
    {
     "data": {
      "text/html": [
       "<div>\n",
       "<style scoped>\n",
       "    .dataframe tbody tr th:only-of-type {\n",
       "        vertical-align: middle;\n",
       "    }\n",
       "\n",
       "    .dataframe tbody tr th {\n",
       "        vertical-align: top;\n",
       "    }\n",
       "\n",
       "    .dataframe thead th {\n",
       "        text-align: right;\n",
       "    }\n",
       "</style>\n",
       "<table border=\"1\" class=\"dataframe\">\n",
       "  <thead>\n",
       "    <tr style=\"text-align: right;\">\n",
       "      <th></th>\n",
       "      <th>close</th>\n",
       "    </tr>\n",
       "  </thead>\n",
       "  <tbody>\n",
       "    <tr>\n",
       "      <th>0</th>\n",
       "      <td>0.048126</td>\n",
       "    </tr>\n",
       "    <tr>\n",
       "      <th>1</th>\n",
       "      <td>0.052263</td>\n",
       "    </tr>\n",
       "    <tr>\n",
       "      <th>2</th>\n",
       "      <td>0.052957</td>\n",
       "    </tr>\n",
       "    <tr>\n",
       "      <th>3</th>\n",
       "      <td>0.047974</td>\n",
       "    </tr>\n",
       "    <tr>\n",
       "      <th>4</th>\n",
       "      <td>0.044719</td>\n",
       "    </tr>\n",
       "    <tr>\n",
       "      <th>...</th>\n",
       "      <td>...</td>\n",
       "    </tr>\n",
       "    <tr>\n",
       "      <th>2342</th>\n",
       "      <td>0.968929</td>\n",
       "    </tr>\n",
       "    <tr>\n",
       "      <th>2343</th>\n",
       "      <td>0.970024</td>\n",
       "    </tr>\n",
       "    <tr>\n",
       "      <th>2344</th>\n",
       "      <td>0.975387</td>\n",
       "    </tr>\n",
       "    <tr>\n",
       "      <th>2345</th>\n",
       "      <td>0.990904</td>\n",
       "    </tr>\n",
       "    <tr>\n",
       "      <th>2346</th>\n",
       "      <td>0.985404</td>\n",
       "    </tr>\n",
       "  </tbody>\n",
       "</table>\n",
       "<p>2347 rows × 1 columns</p>\n",
       "</div>"
      ],
      "text/plain": [
       "         close\n",
       "0     0.048126\n",
       "1     0.052263\n",
       "2     0.052957\n",
       "3     0.047974\n",
       "4     0.044719\n",
       "...        ...\n",
       "2342  0.968929\n",
       "2343  0.970024\n",
       "2344  0.975387\n",
       "2345  0.990904\n",
       "2346  0.985404\n",
       "\n",
       "[2347 rows x 1 columns]"
      ]
     },
     "execution_count": 17,
     "metadata": {},
     "output_type": "execute_result"
    }
   ],
   "source": [
    "train_data_minmax = pd.DataFrame(train_data_minmax, columns = ['close'])\n",
    "train_data_minmax"
   ]
  },
  {
   "cell_type": "code",
   "execution_count": 18,
   "id": "32845d41",
   "metadata": {},
   "outputs": [],
   "source": [
    "# train_data_min=scaler.inverse_transform(train_data_minmax)\n",
    "# train_data_min = pd.DataFrame(train_data_min, columns = ['close'])\n",
    "# train_data_min\n",
    "# train_data_minmax.index = train_data.index\n",
    "# train_data_minmax"
   ]
  },
  {
   "cell_type": "code",
   "execution_count": 19,
   "id": "e5fd38d7",
   "metadata": {},
   "outputs": [],
   "source": [
    "# Using plotly.express\n",
    "import plotly.express as px\n",
    "\n",
    "px.defaults.template = \"ggplot2\""
   ]
  },
  {
   "cell_type": "code",
   "execution_count": 20,
   "id": "fe2e6a69",
   "metadata": {},
   "outputs": [
    {
     "data": {
      "image/png": "[encoded data removed]"
     },
     "metadata": {},
     "output_type": "display_data"
    }
   ],
   "source": [
    "fig = px.line(train_data_minmax, y=\"close\")\n",
    "fig.show()"
   ]
  },
  {
   "cell_type": "code",
   "execution_count": 21,
   "id": "c896dac9",
   "metadata": {},
   "outputs": [],
   "source": [
    "# Difference Transformation\n",
    "# def difference(data, interval):"
   ]
  },
  {
   "cell_type": "code",
   "execution_count": 22,
   "id": "ee7ea9d3",
   "metadata": {},
   "outputs": [],
   "source": [
    "# fig = px.line(dif_data, y=\"close\")\n",
    "# fig.show()"
   ]
  },
  {
   "cell_type": "code",
   "execution_count": 23,
   "id": "e4452b2b",
   "metadata": {},
   "outputs": [],
   "source": [
    "# invert difference\n",
    "def invert_difference(org_data_first_value, diff_data, interval):\n",
    "    data1 = diff_data.reset_index()\n",
    "    org_data1 = org_data_first_value\n",
    "    orgnl_data = []\n",
    "    for i in range(interval, len(data1)):\n",
    "        d = diff_data.loc[i-interval] + org_data1\n",
    "        org_data1=d\n",
    "        orgnl_data.append(d)\n",
    "        \n",
    "    orgnl_data = pd.DataFrame(orgnl_data, columns = diff_data.columns)\n",
    "    orgnl_data.index = diff_data.index[:len(orgnl_data)]\n",
    "    return orgnl_data"
   ]
  },
  {
   "cell_type": "code",
   "execution_count": 24,
   "id": "e4024256",
   "metadata": {},
   "outputs": [],
   "source": [
    "#invert_difference(train_data_minmax.loc[0], dif_data, 1)\n",
    "#train_data_minmax"
   ]
  },
  {
   "cell_type": "code",
   "execution_count": 25,
   "id": "71459591",
   "metadata": {},
   "outputs": [
    {
     "data": {
      "text/html": [
       "<div>\n",
       "<style scoped>\n",
       "    .dataframe tbody tr th:only-of-type {\n",
       "        vertical-align: middle;\n",
       "    }\n",
       "\n",
       "    .dataframe tbody tr th {\n",
       "        vertical-align: top;\n",
       "    }\n",
       "\n",
       "    .dataframe thead th {\n",
       "        text-align: right;\n",
       "    }\n",
       "</style>\n",
       "<table border=\"1\" class=\"dataframe\">\n",
       "  <thead>\n",
       "    <tr style=\"text-align: right;\">\n",
       "      <th></th>\n",
       "      <th>close</th>\n",
       "    </tr>\n",
       "    <tr>\n",
       "      <th>Date</th>\n",
       "      <th></th>\n",
       "    </tr>\n",
       "  </thead>\n",
       "  <tbody>\n",
       "    <tr>\n",
       "      <th>2011-01-03</th>\n",
       "      <td>0.048126</td>\n",
       "    </tr>\n",
       "    <tr>\n",
       "      <th>2011-01-04</th>\n",
       "      <td>0.052263</td>\n",
       "    </tr>\n",
       "    <tr>\n",
       "      <th>2011-01-05</th>\n",
       "      <td>0.052957</td>\n",
       "    </tr>\n",
       "    <tr>\n",
       "      <th>2011-01-06</th>\n",
       "      <td>0.047974</td>\n",
       "    </tr>\n",
       "    <tr>\n",
       "      <th>2011-01-07</th>\n",
       "      <td>0.044719</td>\n",
       "    </tr>\n",
       "    <tr>\n",
       "      <th>...</th>\n",
       "      <td>...</td>\n",
       "    </tr>\n",
       "    <tr>\n",
       "      <th>2019-12-25</th>\n",
       "      <td>0.968929</td>\n",
       "    </tr>\n",
       "    <tr>\n",
       "      <th>2019-12-26</th>\n",
       "      <td>0.970024</td>\n",
       "    </tr>\n",
       "    <tr>\n",
       "      <th>2019-12-27</th>\n",
       "      <td>0.975387</td>\n",
       "    </tr>\n",
       "    <tr>\n",
       "      <th>2019-12-30</th>\n",
       "      <td>0.990904</td>\n",
       "    </tr>\n",
       "    <tr>\n",
       "      <th>2019-12-31</th>\n",
       "      <td>0.985404</td>\n",
       "    </tr>\n",
       "  </tbody>\n",
       "</table>\n",
       "<p>2347 rows × 1 columns</p>\n",
       "</div>"
      ],
      "text/plain": [
       "               close\n",
       "Date                \n",
       "2011-01-03  0.048126\n",
       "2011-01-04  0.052263\n",
       "2011-01-05  0.052957\n",
       "2011-01-06  0.047974\n",
       "2011-01-07  0.044719\n",
       "...              ...\n",
       "2019-12-25  0.968929\n",
       "2019-12-26  0.970024\n",
       "2019-12-27  0.975387\n",
       "2019-12-30  0.990904\n",
       "2019-12-31  0.985404\n",
       "\n",
       "[2347 rows x 1 columns]"
      ]
     },
     "execution_count": 25,
     "metadata": {},
     "output_type": "execute_result"
    }
   ],
   "source": [
    "train_data_minmax.index = train_data.index\n",
    "train_data_minmax"
   ]
  },
  {
   "cell_type": "code",
   "execution_count": 26,
   "id": "990217c0",
   "metadata": {},
   "outputs": [],
   "source": [
    "# dif_data.index = train_data.index[1:]\n",
    "# dif_data"
   ]
  },
  {
   "cell_type": "markdown",
   "id": "f4f06606",
   "metadata": {},
   "source": [
    "# Model Building"
   ]
  },
  {
   "cell_type": "code",
   "execution_count": 28,
   "id": "f5de2dc0",
   "metadata": {},
   "outputs": [],
   "source": [
    "from sktime.forecasting.compose import AutoEnsembleForecaster"
   ]
  },
  {
   "cell_type": "code",
   "execution_count": 29,
   "id": "aa19f436",
   "metadata": {},
   "outputs": [],
   "source": [
    "from sktime.forecasting.exp_smoothing import ExponentialSmoothing\n",
    "from sktime.forecasting.fbprophet import Prophet"
   ]
  },
  {
   "cell_type": "code",
   "execution_count": 30,
   "id": "614f2ecd",
   "metadata": {},
   "outputs": [
    {
     "data": {
      "text/plain": [
       "ExponentialSmoothing(seasonal='mul', sp=262, trend='add')"
      ]
     },
     "execution_count": 30,
     "metadata": {},
     "output_type": "execute_result"
    }
   ],
   "source": [
    "Expo_model = ExponentialSmoothing(trend='add',seasonal='mul',sp=262, damped_trend=False)\n",
    "Expo_model.fit(train_data_minmax)"
   ]
  },
  {
   "cell_type": "code",
   "execution_count": 31,
   "id": "9be5100d",
   "metadata": {},
   "outputs": [
    {
     "data": {
      "text/html": [
       "<div>\n",
       "<style scoped>\n",
       "    .dataframe tbody tr th:only-of-type {\n",
       "        vertical-align: middle;\n",
       "    }\n",
       "\n",
       "    .dataframe tbody tr th {\n",
       "        vertical-align: top;\n",
       "    }\n",
       "\n",
       "    .dataframe thead th {\n",
       "        text-align: right;\n",
       "    }\n",
       "</style>\n",
       "<table border=\"1\" class=\"dataframe\">\n",
       "  <thead>\n",
       "    <tr style=\"text-align: right;\">\n",
       "      <th></th>\n",
       "      <th>close</th>\n",
       "    </tr>\n",
       "  </thead>\n",
       "  <tbody>\n",
       "    <tr>\n",
       "      <th>2020-01-01</th>\n",
       "      <td>0.972956</td>\n",
       "    </tr>\n",
       "    <tr>\n",
       "      <th>2020-01-02</th>\n",
       "      <td>0.971759</td>\n",
       "    </tr>\n",
       "    <tr>\n",
       "      <th>2020-01-03</th>\n",
       "      <td>0.975011</td>\n",
       "    </tr>\n",
       "    <tr>\n",
       "      <th>2020-01-06</th>\n",
       "      <td>0.986245</td>\n",
       "    </tr>\n",
       "    <tr>\n",
       "      <th>2020-01-07</th>\n",
       "      <td>0.963519</td>\n",
       "    </tr>\n",
       "    <tr>\n",
       "      <th>...</th>\n",
       "      <td>...</td>\n",
       "    </tr>\n",
       "    <tr>\n",
       "      <th>2022-06-24</th>\n",
       "      <td>1.423920</td>\n",
       "    </tr>\n",
       "    <tr>\n",
       "      <th>2022-06-27</th>\n",
       "      <td>1.414813</td>\n",
       "    </tr>\n",
       "    <tr>\n",
       "      <th>2022-06-28</th>\n",
       "      <td>1.427853</td>\n",
       "    </tr>\n",
       "    <tr>\n",
       "      <th>2022-06-29</th>\n",
       "      <td>1.437339</td>\n",
       "    </tr>\n",
       "    <tr>\n",
       "      <th>2022-06-30</th>\n",
       "      <td>1.447888</td>\n",
       "    </tr>\n",
       "  </tbody>\n",
       "</table>\n",
       "<p>652 rows × 1 columns</p>\n",
       "</div>"
      ],
      "text/plain": [
       "               close\n",
       "2020-01-01  0.972956\n",
       "2020-01-02  0.971759\n",
       "2020-01-03  0.975011\n",
       "2020-01-06  0.986245\n",
       "2020-01-07  0.963519\n",
       "...              ...\n",
       "2022-06-24  1.423920\n",
       "2022-06-27  1.414813\n",
       "2022-06-28  1.427853\n",
       "2022-06-29  1.437339\n",
       "2022-06-30  1.447888\n",
       "\n",
       "[652 rows x 1 columns]"
      ]
     },
     "execution_count": 31,
     "metadata": {},
     "output_type": "execute_result"
    }
   ],
   "source": [
    "fh = list(range(1,653))\n",
    "# fh1 = pd.DatetimeIndex(np.array(test_data.index))\n",
    "# fh1\n",
    "test_predictions_minmax = Expo_model.predict(fh=fh)\n",
    "test_predictions_minmax"
   ]
  },
  {
   "cell_type": "code",
   "execution_count": 32,
   "id": "edd470ae",
   "metadata": {},
   "outputs": [
    {
     "data": {
      "text/html": [
       "<div>\n",
       "<style scoped>\n",
       "    .dataframe tbody tr th:only-of-type {\n",
       "        vertical-align: middle;\n",
       "    }\n",
       "\n",
       "    .dataframe tbody tr th {\n",
       "        vertical-align: top;\n",
       "    }\n",
       "\n",
       "    .dataframe thead th {\n",
       "        text-align: right;\n",
       "    }\n",
       "</style>\n",
       "<table border=\"1\" class=\"dataframe\">\n",
       "  <thead>\n",
       "    <tr style=\"text-align: right;\">\n",
       "      <th></th>\n",
       "      <th>Close</th>\n",
       "    </tr>\n",
       "    <tr>\n",
       "      <th>Date</th>\n",
       "      <th></th>\n",
       "    </tr>\n",
       "  </thead>\n",
       "  <tbody>\n",
       "    <tr>\n",
       "      <th>2020-01-01</th>\n",
       "      <td>14076.283229</td>\n",
       "    </tr>\n",
       "    <tr>\n",
       "      <th>2020-01-02</th>\n",
       "      <td>14062.349914</td>\n",
       "    </tr>\n",
       "    <tr>\n",
       "      <th>2020-01-03</th>\n",
       "      <td>14100.194753</td>\n",
       "    </tr>\n",
       "    <tr>\n",
       "      <th>2020-01-06</th>\n",
       "      <td>14230.939784</td>\n",
       "    </tr>\n",
       "    <tr>\n",
       "      <th>2020-01-07</th>\n",
       "      <td>13966.444612</td>\n",
       "    </tr>\n",
       "    <tr>\n",
       "      <th>...</th>\n",
       "      <td>...</td>\n",
       "    </tr>\n",
       "    <tr>\n",
       "      <th>2022-06-24</th>\n",
       "      <td>19324.627081</td>\n",
       "    </tr>\n",
       "    <tr>\n",
       "      <th>2022-06-27</th>\n",
       "      <td>19218.635224</td>\n",
       "    </tr>\n",
       "    <tr>\n",
       "      <th>2022-06-28</th>\n",
       "      <td>19370.403577</td>\n",
       "    </tr>\n",
       "    <tr>\n",
       "      <th>2022-06-29</th>\n",
       "      <td>19480.799287</td>\n",
       "    </tr>\n",
       "    <tr>\n",
       "      <th>2022-06-30</th>\n",
       "      <td>19603.573132</td>\n",
       "    </tr>\n",
       "  </tbody>\n",
       "</table>\n",
       "<p>652 rows × 1 columns</p>\n",
       "</div>"
      ],
      "text/plain": [
       "                   Close\n",
       "Date                    \n",
       "2020-01-01  14076.283229\n",
       "2020-01-02  14062.349914\n",
       "2020-01-03  14100.194753\n",
       "2020-01-06  14230.939784\n",
       "2020-01-07  13966.444612\n",
       "...                  ...\n",
       "2022-06-24  19324.627081\n",
       "2022-06-27  19218.635224\n",
       "2022-06-28  19370.403577\n",
       "2022-06-29  19480.799287\n",
       "2022-06-30  19603.573132\n",
       "\n",
       "[652 rows x 1 columns]"
      ]
     },
     "execution_count": 32,
     "metadata": {},
     "output_type": "execute_result"
    }
   ],
   "source": [
    "test_predictions=scaler.inverse_transform(test_predictions_minmax)\n",
    "test_predictions = pd.DataFrame(test_predictions, columns = ['Close'])\n",
    "test_predictions.index = test_data.index\n",
    "test_predictions"
   ]
  },
  {
   "cell_type": "code",
   "execution_count": 33,
   "id": "e1f2d6ed",
   "metadata": {},
   "outputs": [],
   "source": [
    "#fig = go.Figure()\n",
    "\n",
    "# fig.add_trace(go.Scatter(x=train_data.index, y=train_data['Close'], mode='lines', name='TRAIN'))\n",
    "# fig.add_trace(go.Scatter(x=test_data.index, y=test_data['Close'], mode='lines', name='TEST'))\n",
    "# fig.add_trace(go.Scatter(x=test_predictions.index, y=test_predictions['Close'], mode='lines', name='PREDICTION'))\n",
    "\n",
    "# fig.update_layout(title_text='Forecast vs Actuals', title_x=0.5)\n",
    "# fig.show()"
   ]
  },
  {
   "cell_type": "code",
   "execution_count": 37,
   "id": "caf04132",
   "metadata": {},
   "outputs": [],
   "source": [
    "#mse, rmse = error(test_data['Close'],test_predictions)"
   ]
  },
  {
   "cell_type": "code",
   "execution_count": 35,
   "id": "cf96844f",
   "metadata": {},
   "outputs": [],
   "source": [
    "from sklearn.metrics import mean_squared_error, mean_absolute_error\n",
    "import holidays\n",
    "import random"
   ]
  },
  {
   "cell_type": "code",
   "execution_count": 36,
   "id": "21e0d229",
   "metadata": {},
   "outputs": [],
   "source": [
    "holiday = pd.DataFrame([])\n",
    "\n",
    "for date, name in sorted(holidays.India(years=[2011,2012,2013,2014,2015,2016,2017,2018,2019,2020,2021,2022]).items()):\n",
    "    holiday = holiday.append(pd.DataFrame({'ds': date, 'holiday': \"India_Holidays\"}, index=[0]), ignore_index=True)\n",
    "holiday['ds'] = pd.to_datetime(holiday['ds'], format='%Y-%m-%d', errors='ignore')"
   ]
  },
  {
   "cell_type": "code",
   "execution_count": 37,
   "id": "293b802a",
   "metadata": {},
   "outputs": [
    {
     "data": {
      "text/html": [
       "<div>\n",
       "<style scoped>\n",
       "    .dataframe tbody tr th:only-of-type {\n",
       "        vertical-align: middle;\n",
       "    }\n",
       "\n",
       "    .dataframe tbody tr th {\n",
       "        vertical-align: top;\n",
       "    }\n",
       "\n",
       "    .dataframe thead th {\n",
       "        text-align: right;\n",
       "    }\n",
       "</style>\n",
       "<table border=\"1\" class=\"dataframe\">\n",
       "  <thead>\n",
       "    <tr style=\"text-align: right;\">\n",
       "      <th></th>\n",
       "      <th>ds</th>\n",
       "      <th>holiday</th>\n",
       "    </tr>\n",
       "  </thead>\n",
       "  <tbody>\n",
       "    <tr>\n",
       "      <th>0</th>\n",
       "      <td>2011-01-14</td>\n",
       "      <td>India_Holidays</td>\n",
       "    </tr>\n",
       "    <tr>\n",
       "      <th>1</th>\n",
       "      <td>2011-01-26</td>\n",
       "      <td>India_Holidays</td>\n",
       "    </tr>\n",
       "    <tr>\n",
       "      <th>2</th>\n",
       "      <td>2011-03-19</td>\n",
       "      <td>India_Holidays</td>\n",
       "    </tr>\n",
       "    <tr>\n",
       "      <th>3</th>\n",
       "      <td>2011-05-01</td>\n",
       "      <td>India_Holidays</td>\n",
       "    </tr>\n",
       "    <tr>\n",
       "      <th>4</th>\n",
       "      <td>2011-08-15</td>\n",
       "      <td>India_Holidays</td>\n",
       "    </tr>\n",
       "    <tr>\n",
       "      <th>...</th>\n",
       "      <td>...</td>\n",
       "      <td>...</td>\n",
       "    </tr>\n",
       "    <tr>\n",
       "      <th>87</th>\n",
       "      <td>2021-12-25</td>\n",
       "      <td>India_Holidays</td>\n",
       "    </tr>\n",
       "    <tr>\n",
       "      <th>88</th>\n",
       "      <td>2022-01-14</td>\n",
       "      <td>India_Holidays</td>\n",
       "    </tr>\n",
       "    <tr>\n",
       "      <th>89</th>\n",
       "      <td>2022-01-26</td>\n",
       "      <td>India_Holidays</td>\n",
       "    </tr>\n",
       "    <tr>\n",
       "      <th>90</th>\n",
       "      <td>2022-03-18</td>\n",
       "      <td>India_Holidays</td>\n",
       "    </tr>\n",
       "    <tr>\n",
       "      <th>91</th>\n",
       "      <td>2022-05-01</td>\n",
       "      <td>India_Holidays</td>\n",
       "    </tr>\n",
       "  </tbody>\n",
       "</table>\n",
       "<p>92 rows × 2 columns</p>\n",
       "</div>"
      ],
      "text/plain": [
       "           ds         holiday\n",
       "0  2011-01-14  India_Holidays\n",
       "1  2011-01-26  India_Holidays\n",
       "2  2011-03-19  India_Holidays\n",
       "3  2011-05-01  India_Holidays\n",
       "4  2011-08-15  India_Holidays\n",
       "..        ...             ...\n",
       "87 2021-12-25  India_Holidays\n",
       "88 2022-01-14  India_Holidays\n",
       "89 2022-01-26  India_Holidays\n",
       "90 2022-03-18  India_Holidays\n",
       "91 2022-05-01  India_Holidays\n",
       "\n",
       "[92 rows x 2 columns]"
      ]
     },
     "execution_count": 37,
     "metadata": {},
     "output_type": "execute_result"
    }
   ],
   "source": [
    "holiday = holiday[:-4]\n",
    "holiday"
   ]
  },
  {
   "cell_type": "code",
   "execution_count": 38,
   "id": "d6330e7b",
   "metadata": {},
   "outputs": [
    {
     "name": "stdout",
     "output_type": "stream",
     "text": [
      "Total Possible Models 64\n"
     ]
    }
   ],
   "source": [
    "from sklearn.model_selection import ParameterGrid\n",
    "params_grid = {'changepoint_prior_scale':[0.05,1,10,25],\n",
    "               'n_changepoints' : [1,10,25,100],\n",
    "               'seasonality_prior_scale':[0.05,1,10,25]}\n",
    "\n",
    "grid = ParameterGrid(params_grid)\n",
    "cnt = 0\n",
    "for p in grid:\n",
    "    cnt = cnt+1\n",
    "\n",
    "print('Total Possible Models',cnt)"
   ]
  },
  {
   "cell_type": "code",
   "execution_count": 40,
   "id": "5dbf8caf",
   "metadata": {
    "scrolled": true
   },
   "outputs": [
    {
     "name": "stdout",
     "output_type": "stream",
     "text": [
      "1   {'changepoint_prior_scale': 0.05, 'n_changepoints': 1, 'seasonality_prior_scale': 0.05}\n"
     ]
    },
    {
     "name": "stderr",
     "output_type": "stream",
     "text": [
      "07:10:40 - cmdstanpy - INFO - Chain [1] start processing\n",
      "07:10:41 - cmdstanpy - INFO - Chain [1] done processing\n"
     ]
    },
    {
     "name": "stdout",
     "output_type": "stream",
     "text": [
      "Errors :-\n",
      "MSE :  3810792.535485538\n",
      "RMSE :  1952.1251331524672 \n",
      "\n",
      "Root Mean Squre Error(RMSE)------------------------------------ 1952.1251331524672\n",
      "2   {'changepoint_prior_scale': 0.05, 'n_changepoints': 1, 'seasonality_prior_scale': 1}\n"
     ]
    },
    {
     "name": "stderr",
     "output_type": "stream",
     "text": [
      "07:10:42 - cmdstanpy - INFO - Chain [1] start processing\n",
      "07:10:42 - cmdstanpy - INFO - Chain [1] done processing\n"
     ]
    },
    {
     "name": "stdout",
     "output_type": "stream",
     "text": [
      "Errors :-\n",
      "MSE :  3807641.199371269\n",
      "RMSE :  1951.3178109603953 \n",
      "\n",
      "Root Mean Squre Error(RMSE)------------------------------------ 1951.3178109603953\n",
      "3   {'changepoint_prior_scale': 0.05, 'n_changepoints': 1, 'seasonality_prior_scale': 10}\n"
     ]
    },
    {
     "name": "stderr",
     "output_type": "stream",
     "text": [
      "07:10:43 - cmdstanpy - INFO - Chain [1] start processing\n",
      "07:10:44 - cmdstanpy - INFO - Chain [1] done processing\n"
     ]
    },
    {
     "name": "stdout",
     "output_type": "stream",
     "text": [
      "Errors :-\n",
      "MSE :  3809332.305944513\n",
      "RMSE :  1951.7510870868018 \n",
      "\n",
      "Root Mean Squre Error(RMSE)------------------------------------ 1951.7510870868018\n",
      "4   {'changepoint_prior_scale': 0.05, 'n_changepoints': 1, 'seasonality_prior_scale': 25}\n"
     ]
    },
    {
     "name": "stderr",
     "output_type": "stream",
     "text": [
      "07:10:45 - cmdstanpy - INFO - Chain [1] start processing\n",
      "07:10:45 - cmdstanpy - INFO - Chain [1] done processing\n"
     ]
    },
    {
     "name": "stdout",
     "output_type": "stream",
     "text": [
      "Errors :-\n",
      "MSE :  3806689.7137746196\n",
      "RMSE :  1951.0739898257625 \n",
      "\n",
      "Root Mean Squre Error(RMSE)------------------------------------ 1951.0739898257625\n",
      "5   {'changepoint_prior_scale': 0.05, 'n_changepoints': 10, 'seasonality_prior_scale': 0.05}\n"
     ]
    },
    {
     "name": "stderr",
     "output_type": "stream",
     "text": [
      "07:10:46 - cmdstanpy - INFO - Chain [1] start processing\n",
      "07:10:47 - cmdstanpy - INFO - Chain [1] done processing\n"
     ]
    },
    {
     "name": "stdout",
     "output_type": "stream",
     "text": [
      "Errors :-\n",
      "MSE :  2335662.2873186\n",
      "RMSE :  1528.2873706599162 \n",
      "\n",
      "Root Mean Squre Error(RMSE)------------------------------------ 1528.2873706599162\n",
      "6   {'changepoint_prior_scale': 0.05, 'n_changepoints': 10, 'seasonality_prior_scale': 1}\n"
     ]
    },
    {
     "name": "stderr",
     "output_type": "stream",
     "text": [
      "07:10:48 - cmdstanpy - INFO - Chain [1] start processing\n",
      "07:10:48 - cmdstanpy - INFO - Chain [1] done processing\n"
     ]
    },
    {
     "name": "stdout",
     "output_type": "stream",
     "text": [
      "Errors :-\n",
      "MSE :  2345693.2068657866\n",
      "RMSE :  1531.5656064517075 \n",
      "\n",
      "Root Mean Squre Error(RMSE)------------------------------------ 1531.5656064517075\n",
      "7   {'changepoint_prior_scale': 0.05, 'n_changepoints': 10, 'seasonality_prior_scale': 10}\n"
     ]
    },
    {
     "name": "stderr",
     "output_type": "stream",
     "text": [
      "07:10:50 - cmdstanpy - INFO - Chain [1] start processing\n",
      "07:10:50 - cmdstanpy - INFO - Chain [1] done processing\n"
     ]
    },
    {
     "name": "stdout",
     "output_type": "stream",
     "text": [
      "Errors :-\n",
      "MSE :  2345559.7498722076\n",
      "RMSE :  1531.5220370181448 \n",
      "\n",
      "Root Mean Squre Error(RMSE)------------------------------------ 1531.5220370181448\n",
      "8   {'changepoint_prior_scale': 0.05, 'n_changepoints': 10, 'seasonality_prior_scale': 25}\n"
     ]
    },
    {
     "name": "stderr",
     "output_type": "stream",
     "text": [
      "07:10:51 - cmdstanpy - INFO - Chain [1] start processing\n",
      "07:10:52 - cmdstanpy - INFO - Chain [1] done processing\n"
     ]
    },
    {
     "name": "stdout",
     "output_type": "stream",
     "text": [
      "Errors :-\n",
      "MSE :  2338569.7876195186\n",
      "RMSE :  1529.2383030840938 \n",
      "\n",
      "Root Mean Squre Error(RMSE)------------------------------------ 1529.2383030840938\n",
      "9   {'changepoint_prior_scale': 0.05, 'n_changepoints': 25, 'seasonality_prior_scale': 0.05}\n"
     ]
    },
    {
     "name": "stderr",
     "output_type": "stream",
     "text": [
      "07:10:53 - cmdstanpy - INFO - Chain [1] start processing\n",
      "07:10:54 - cmdstanpy - INFO - Chain [1] done processing\n"
     ]
    },
    {
     "name": "stdout",
     "output_type": "stream",
     "text": [
      "Errors :-\n",
      "MSE :  2349719.9304394135\n",
      "RMSE :  1532.8796203353393 \n",
      "\n",
      "Root Mean Squre Error(RMSE)------------------------------------ 1532.8796203353393\n",
      "10   {'changepoint_prior_scale': 0.05, 'n_changepoints': 25, 'seasonality_prior_scale': 1}\n"
     ]
    },
    {
     "name": "stderr",
     "output_type": "stream",
     "text": [
      "07:10:55 - cmdstanpy - INFO - Chain [1] start processing\n",
      "07:10:56 - cmdstanpy - INFO - Chain [1] done processing\n"
     ]
    },
    {
     "name": "stdout",
     "output_type": "stream",
     "text": [
      "Errors :-\n",
      "MSE :  2349317.165425463\n",
      "RMSE :  1532.7482394135911 \n",
      "\n",
      "Root Mean Squre Error(RMSE)------------------------------------ 1532.7482394135911\n",
      "11   {'changepoint_prior_scale': 0.05, 'n_changepoints': 25, 'seasonality_prior_scale': 10}\n"
     ]
    },
    {
     "name": "stderr",
     "output_type": "stream",
     "text": [
      "07:10:58 - cmdstanpy - INFO - Chain [1] start processing\n",
      "07:10:58 - cmdstanpy - INFO - Chain [1] done processing\n"
     ]
    },
    {
     "name": "stdout",
     "output_type": "stream",
     "text": [
      "Errors :-\n",
      "MSE :  2356379.3573019574\n",
      "RMSE :  1535.0502784280252 \n",
      "\n",
      "Root Mean Squre Error(RMSE)------------------------------------ 1535.0502784280252\n",
      "12   {'changepoint_prior_scale': 0.05, 'n_changepoints': 25, 'seasonality_prior_scale': 25}\n"
     ]
    },
    {
     "name": "stderr",
     "output_type": "stream",
     "text": [
      "07:11:00 - cmdstanpy - INFO - Chain [1] start processing\n",
      "07:11:01 - cmdstanpy - INFO - Chain [1] done processing\n"
     ]
    },
    {
     "name": "stdout",
     "output_type": "stream",
     "text": [
      "Errors :-\n",
      "MSE :  2346648.4844046244\n",
      "RMSE :  1531.8774377882273 \n",
      "\n",
      "Root Mean Squre Error(RMSE)------------------------------------ 1531.8774377882273\n",
      "13   {'changepoint_prior_scale': 0.05, 'n_changepoints': 100, 'seasonality_prior_scale': 0.05}\n"
     ]
    },
    {
     "name": "stderr",
     "output_type": "stream",
     "text": [
      "07:11:02 - cmdstanpy - INFO - Chain [1] start processing\n",
      "07:11:08 - cmdstanpy - INFO - Chain [1] done processing\n"
     ]
    },
    {
     "name": "stdout",
     "output_type": "stream",
     "text": [
      "Errors :-\n",
      "MSE :  2344972.8432701966\n",
      "RMSE :  1531.330416099085 \n",
      "\n",
      "Root Mean Squre Error(RMSE)------------------------------------ 1531.330416099085\n",
      "14   {'changepoint_prior_scale': 0.05, 'n_changepoints': 100, 'seasonality_prior_scale': 1}\n"
     ]
    },
    {
     "name": "stderr",
     "output_type": "stream",
     "text": [
      "07:11:11 - cmdstanpy - INFO - Chain [1] start processing\n",
      "07:11:15 - cmdstanpy - INFO - Chain [1] done processing\n"
     ]
    },
    {
     "name": "stdout",
     "output_type": "stream",
     "text": [
      "Errors :-\n",
      "MSE :  2347162.2743992587\n",
      "RMSE :  1532.0451280557172 \n",
      "\n",
      "Root Mean Squre Error(RMSE)------------------------------------ 1532.0451280557172\n",
      "15   {'changepoint_prior_scale': 0.05, 'n_changepoints': 100, 'seasonality_prior_scale': 10}\n"
     ]
    },
    {
     "name": "stderr",
     "output_type": "stream",
     "text": [
      "07:11:18 - cmdstanpy - INFO - Chain [1] start processing\n",
      "07:11:23 - cmdstanpy - INFO - Chain [1] done processing\n"
     ]
    },
    {
     "name": "stdout",
     "output_type": "stream",
     "text": [
      "Errors :-\n",
      "MSE :  2354516.9111999674\n",
      "RMSE :  1534.443518413098 \n",
      "\n",
      "Root Mean Squre Error(RMSE)------------------------------------ 1534.443518413098\n",
      "16   {'changepoint_prior_scale': 0.05, 'n_changepoints': 100, 'seasonality_prior_scale': 25}\n"
     ]
    },
    {
     "name": "stderr",
     "output_type": "stream",
     "text": [
      "07:11:26 - cmdstanpy - INFO - Chain [1] start processing\n",
      "07:11:32 - cmdstanpy - INFO - Chain [1] done processing\n"
     ]
    },
    {
     "name": "stdout",
     "output_type": "stream",
     "text": [
      "Errors :-\n",
      "MSE :  2348701.109399035\n",
      "RMSE :  1532.5472617179005 \n",
      "\n",
      "Root Mean Squre Error(RMSE)------------------------------------ 1532.5472617179005\n",
      "17   {'changepoint_prior_scale': 1, 'n_changepoints': 1, 'seasonality_prior_scale': 0.05}\n"
     ]
    },
    {
     "name": "stderr",
     "output_type": "stream",
     "text": [
      "07:11:34 - cmdstanpy - INFO - Chain [1] start processing\n",
      "07:11:34 - cmdstanpy - INFO - Chain [1] done processing\n"
     ]
    },
    {
     "name": "stdout",
     "output_type": "stream",
     "text": [
      "Errors :-\n",
      "MSE :  3903148.9741242365\n",
      "RMSE :  1975.6388774581849 \n",
      "\n",
      "Root Mean Squre Error(RMSE)------------------------------------ 1975.6388774581849\n",
      "18   {'changepoint_prior_scale': 1, 'n_changepoints': 1, 'seasonality_prior_scale': 1}\n"
     ]
    },
    {
     "name": "stderr",
     "output_type": "stream",
     "text": [
      "07:11:35 - cmdstanpy - INFO - Chain [1] start processing\n",
      "07:11:35 - cmdstanpy - INFO - Chain [1] done processing\n"
     ]
    },
    {
     "name": "stdout",
     "output_type": "stream",
     "text": [
      "Errors :-\n",
      "MSE :  3896889.0672571464\n",
      "RMSE :  1974.053967665815 \n",
      "\n",
      "Root Mean Squre Error(RMSE)------------------------------------ 1974.053967665815\n",
      "19   {'changepoint_prior_scale': 1, 'n_changepoints': 1, 'seasonality_prior_scale': 10}\n"
     ]
    },
    {
     "name": "stderr",
     "output_type": "stream",
     "text": [
      "07:11:36 - cmdstanpy - INFO - Chain [1] start processing\n",
      "07:11:37 - cmdstanpy - INFO - Chain [1] done processing\n"
     ]
    },
    {
     "name": "stdout",
     "output_type": "stream",
     "text": [
      "Errors :-\n",
      "MSE :  3901184.6444638134\n",
      "RMSE :  1975.14167706112 \n",
      "\n",
      "Root Mean Squre Error(RMSE)------------------------------------ 1975.14167706112\n",
      "20   {'changepoint_prior_scale': 1, 'n_changepoints': 1, 'seasonality_prior_scale': 25}\n"
     ]
    },
    {
     "name": "stderr",
     "output_type": "stream",
     "text": [
      "07:11:38 - cmdstanpy - INFO - Chain [1] start processing\n",
      "07:11:38 - cmdstanpy - INFO - Chain [1] done processing\n"
     ]
    },
    {
     "name": "stdout",
     "output_type": "stream",
     "text": [
      "Errors :-\n",
      "MSE :  3898513.1216205144\n",
      "RMSE :  1974.4652748581107 \n",
      "\n",
      "Root Mean Squre Error(RMSE)------------------------------------ 1974.4652748581107\n",
      "21   {'changepoint_prior_scale': 1, 'n_changepoints': 10, 'seasonality_prior_scale': 0.05}\n"
     ]
    },
    {
     "name": "stderr",
     "output_type": "stream",
     "text": [
      "07:11:39 - cmdstanpy - INFO - Chain [1] start processing\n",
      "07:11:39 - cmdstanpy - INFO - Chain [1] done processing\n"
     ]
    },
    {
     "name": "stdout",
     "output_type": "stream",
     "text": [
      "Errors :-\n",
      "MSE :  2323080.704873769\n",
      "RMSE :  1524.1655765938847 \n",
      "\n",
      "Root Mean Squre Error(RMSE)------------------------------------ 1524.1655765938847\n",
      "22   {'changepoint_prior_scale': 1, 'n_changepoints': 10, 'seasonality_prior_scale': 1}\n"
     ]
    },
    {
     "name": "stderr",
     "output_type": "stream",
     "text": [
      "07:11:41 - cmdstanpy - INFO - Chain [1] start processing\n",
      "07:11:41 - cmdstanpy - INFO - Chain [1] done processing\n"
     ]
    },
    {
     "name": "stdout",
     "output_type": "stream",
     "text": [
      "Errors :-\n",
      "MSE :  2325324.0832180786\n",
      "RMSE :  1524.9013355683308 \n",
      "\n",
      "Root Mean Squre Error(RMSE)------------------------------------ 1524.9013355683308\n",
      "23   {'changepoint_prior_scale': 1, 'n_changepoints': 10, 'seasonality_prior_scale': 10}\n"
     ]
    },
    {
     "name": "stderr",
     "output_type": "stream",
     "text": [
      "07:11:42 - cmdstanpy - INFO - Chain [1] start processing\n",
      "07:11:42 - cmdstanpy - INFO - Chain [1] done processing\n"
     ]
    },
    {
     "name": "stdout",
     "output_type": "stream",
     "text": [
      "Errors :-\n",
      "MSE :  2324535.7907113344\n",
      "RMSE :  1524.6428403765042 \n",
      "\n",
      "Root Mean Squre Error(RMSE)------------------------------------ 1524.6428403765042\n",
      "24   {'changepoint_prior_scale': 1, 'n_changepoints': 10, 'seasonality_prior_scale': 25}\n"
     ]
    },
    {
     "name": "stderr",
     "output_type": "stream",
     "text": [
      "07:11:44 - cmdstanpy - INFO - Chain [1] start processing\n",
      "07:11:44 - cmdstanpy - INFO - Chain [1] done processing\n"
     ]
    },
    {
     "name": "stdout",
     "output_type": "stream",
     "text": [
      "Errors :-\n",
      "MSE :  2325747.4041386275\n",
      "RMSE :  1525.0401319764105 \n",
      "\n",
      "Root Mean Squre Error(RMSE)------------------------------------ 1525.0401319764105\n",
      "25   {'changepoint_prior_scale': 1, 'n_changepoints': 25, 'seasonality_prior_scale': 0.05}\n"
     ]
    },
    {
     "name": "stderr",
     "output_type": "stream",
     "text": [
      "07:11:45 - cmdstanpy - INFO - Chain [1] start processing\n",
      "07:11:47 - cmdstanpy - INFO - Chain [1] done processing\n"
     ]
    },
    {
     "name": "stdout",
     "output_type": "stream",
     "text": [
      "Errors :-\n",
      "MSE :  2576163.706240767\n",
      "RMSE :  1605.043210085251 \n",
      "\n",
      "Root Mean Squre Error(RMSE)------------------------------------ 1605.043210085251\n",
      "26   {'changepoint_prior_scale': 1, 'n_changepoints': 25, 'seasonality_prior_scale': 1}\n"
     ]
    },
    {
     "name": "stderr",
     "output_type": "stream",
     "text": [
      "07:11:49 - cmdstanpy - INFO - Chain [1] start processing\n",
      "07:11:50 - cmdstanpy - INFO - Chain [1] done processing\n"
     ]
    },
    {
     "name": "stdout",
     "output_type": "stream",
     "text": [
      "Errors :-\n",
      "MSE :  2575622.0344111854\n",
      "RMSE :  1604.8744606389578 \n",
      "\n",
      "Root Mean Squre Error(RMSE)------------------------------------ 1604.8744606389578\n",
      "27   {'changepoint_prior_scale': 1, 'n_changepoints': 25, 'seasonality_prior_scale': 10}\n"
     ]
    },
    {
     "name": "stderr",
     "output_type": "stream",
     "text": [
      "07:11:52 - cmdstanpy - INFO - Chain [1] start processing\n",
      "07:11:54 - cmdstanpy - INFO - Chain [1] done processing\n"
     ]
    },
    {
     "name": "stdout",
     "output_type": "stream",
     "text": [
      "Errors :-\n",
      "MSE :  2572608.8370623603\n",
      "RMSE :  1603.9354217244409 \n",
      "\n",
      "Root Mean Squre Error(RMSE)------------------------------------ 1603.9354217244409\n",
      "28   {'changepoint_prior_scale': 1, 'n_changepoints': 25, 'seasonality_prior_scale': 25}\n"
     ]
    },
    {
     "name": "stderr",
     "output_type": "stream",
     "text": [
      "07:11:55 - cmdstanpy - INFO - Chain [1] start processing\n",
      "07:11:57 - cmdstanpy - INFO - Chain [1] done processing\n"
     ]
    },
    {
     "name": "stdout",
     "output_type": "stream",
     "text": [
      "Errors :-\n",
      "MSE :  2577015.0489406306\n",
      "RMSE :  1605.3083968324063 \n",
      "\n",
      "Root Mean Squre Error(RMSE)------------------------------------ 1605.3083968324063\n",
      "29   {'changepoint_prior_scale': 1, 'n_changepoints': 100, 'seasonality_prior_scale': 0.05}\n"
     ]
    },
    {
     "name": "stderr",
     "output_type": "stream",
     "text": [
      "07:11:59 - cmdstanpy - INFO - Chain [1] start processing\n",
      "07:12:16 - cmdstanpy - INFO - Chain [1] done processing\n"
     ]
    },
    {
     "name": "stdout",
     "output_type": "stream",
     "text": [
      "Errors :-\n",
      "MSE :  2787625.9295124034\n",
      "RMSE :  1669.6184981942442 \n",
      "\n",
      "Root Mean Squre Error(RMSE)------------------------------------ 1669.6184981942442\n",
      "30   {'changepoint_prior_scale': 1, 'n_changepoints': 100, 'seasonality_prior_scale': 1}\n"
     ]
    },
    {
     "name": "stderr",
     "output_type": "stream",
     "text": [
      "07:12:19 - cmdstanpy - INFO - Chain [1] start processing\n",
      "07:12:37 - cmdstanpy - INFO - Chain [1] done processing\n"
     ]
    },
    {
     "name": "stdout",
     "output_type": "stream",
     "text": [
      "Errors :-\n",
      "MSE :  2774001.387233197\n",
      "RMSE :  1665.5333641909422 \n",
      "\n",
      "Root Mean Squre Error(RMSE)------------------------------------ 1665.5333641909422\n",
      "31   {'changepoint_prior_scale': 1, 'n_changepoints': 100, 'seasonality_prior_scale': 10}\n"
     ]
    },
    {
     "name": "stderr",
     "output_type": "stream",
     "text": [
      "07:12:39 - cmdstanpy - INFO - Chain [1] start processing\n",
      "07:12:55 - cmdstanpy - INFO - Chain [1] done processing\n"
     ]
    },
    {
     "name": "stdout",
     "output_type": "stream",
     "text": [
      "Errors :-\n",
      "MSE :  2794646.0402521244\n",
      "RMSE :  1671.7194861136616 \n",
      "\n",
      "Root Mean Squre Error(RMSE)------------------------------------ 1671.7194861136616\n",
      "32   {'changepoint_prior_scale': 1, 'n_changepoints': 100, 'seasonality_prior_scale': 25}\n"
     ]
    },
    {
     "name": "stderr",
     "output_type": "stream",
     "text": [
      "07:12:57 - cmdstanpy - INFO - Chain [1] start processing\n",
      "07:13:15 - cmdstanpy - INFO - Chain [1] done processing\n"
     ]
    },
    {
     "name": "stdout",
     "output_type": "stream",
     "text": [
      "Errors :-\n",
      "MSE :  2789175.553298173\n",
      "RMSE :  1670.0824989497294 \n",
      "\n",
      "Root Mean Squre Error(RMSE)------------------------------------ 1670.0824989497294\n",
      "33   {'changepoint_prior_scale': 10, 'n_changepoints': 1, 'seasonality_prior_scale': 0.05}\n"
     ]
    },
    {
     "name": "stderr",
     "output_type": "stream",
     "text": [
      "07:13:18 - cmdstanpy - INFO - Chain [1] start processing\n",
      "07:13:18 - cmdstanpy - INFO - Chain [1] done processing\n"
     ]
    },
    {
     "name": "stdout",
     "output_type": "stream",
     "text": [
      "Errors :-\n",
      "MSE :  3912733.1216276074\n",
      "RMSE :  1978.0629721087262 \n",
      "\n",
      "Root Mean Squre Error(RMSE)------------------------------------ 1978.0629721087262\n",
      "34   {'changepoint_prior_scale': 10, 'n_changepoints': 1, 'seasonality_prior_scale': 1}\n"
     ]
    },
    {
     "name": "stderr",
     "output_type": "stream",
     "text": [
      "07:13:19 - cmdstanpy - INFO - Chain [1] start processing\n",
      "07:13:19 - cmdstanpy - INFO - Chain [1] done processing\n"
     ]
    },
    {
     "name": "stdout",
     "output_type": "stream",
     "text": [
      "Errors :-\n",
      "MSE :  3905482.3769452916\n",
      "RMSE :  1976.229333084926 \n",
      "\n",
      "Root Mean Squre Error(RMSE)------------------------------------ 1976.229333084926\n",
      "35   {'changepoint_prior_scale': 10, 'n_changepoints': 1, 'seasonality_prior_scale': 10}\n"
     ]
    },
    {
     "name": "stderr",
     "output_type": "stream",
     "text": [
      "07:13:20 - cmdstanpy - INFO - Chain [1] start processing\n",
      "07:13:20 - cmdstanpy - INFO - Chain [1] done processing\n"
     ]
    },
    {
     "name": "stdout",
     "output_type": "stream",
     "text": [
      "Errors :-\n",
      "MSE :  3904985.494681475\n",
      "RMSE :  1976.1036143586894 \n",
      "\n",
      "Root Mean Squre Error(RMSE)------------------------------------ 1976.1036143586894\n",
      "36   {'changepoint_prior_scale': 10, 'n_changepoints': 1, 'seasonality_prior_scale': 25}\n"
     ]
    },
    {
     "name": "stderr",
     "output_type": "stream",
     "text": [
      "07:13:21 - cmdstanpy - INFO - Chain [1] start processing\n",
      "07:13:22 - cmdstanpy - INFO - Chain [1] done processing\n"
     ]
    },
    {
     "name": "stdout",
     "output_type": "stream",
     "text": [
      "Errors :-\n",
      "MSE :  3904949.068361195\n",
      "RMSE :  1976.0943976341805 \n",
      "\n",
      "Root Mean Squre Error(RMSE)------------------------------------ 1976.0943976341805\n",
      "37   {'changepoint_prior_scale': 10, 'n_changepoints': 10, 'seasonality_prior_scale': 0.05}\n"
     ]
    },
    {
     "name": "stderr",
     "output_type": "stream",
     "text": [
      "07:13:23 - cmdstanpy - INFO - Chain [1] start processing\n",
      "07:13:23 - cmdstanpy - INFO - Chain [1] done processing\n"
     ]
    },
    {
     "name": "stdout",
     "output_type": "stream",
     "text": [
      "Errors :-\n",
      "MSE :  2322545.7047294257\n",
      "RMSE :  1523.9900605743549 \n",
      "\n",
      "Root Mean Squre Error(RMSE)------------------------------------ 1523.9900605743549\n",
      "38   {'changepoint_prior_scale': 10, 'n_changepoints': 10, 'seasonality_prior_scale': 1}\n"
     ]
    },
    {
     "name": "stderr",
     "output_type": "stream",
     "text": [
      "07:13:24 - cmdstanpy - INFO - Chain [1] start processing\n",
      "07:13:25 - cmdstanpy - INFO - Chain [1] done processing\n"
     ]
    },
    {
     "name": "stdout",
     "output_type": "stream",
     "text": [
      "Errors :-\n",
      "MSE :  2325189.504764803\n",
      "RMSE :  1524.8572079918838 \n",
      "\n",
      "Root Mean Squre Error(RMSE)------------------------------------ 1524.8572079918838\n",
      "39   {'changepoint_prior_scale': 10, 'n_changepoints': 10, 'seasonality_prior_scale': 10}\n"
     ]
    },
    {
     "name": "stderr",
     "output_type": "stream",
     "text": [
      "07:13:26 - cmdstanpy - INFO - Chain [1] start processing\n",
      "07:13:26 - cmdstanpy - INFO - Chain [1] done processing\n"
     ]
    },
    {
     "name": "stdout",
     "output_type": "stream",
     "text": [
      "Errors :-\n",
      "MSE :  2325826.635565508\n",
      "RMSE :  1525.066108588578 \n",
      "\n",
      "Root Mean Squre Error(RMSE)------------------------------------ 1525.066108588578\n",
      "40   {'changepoint_prior_scale': 10, 'n_changepoints': 10, 'seasonality_prior_scale': 25}\n"
     ]
    },
    {
     "name": "stderr",
     "output_type": "stream",
     "text": [
      "07:13:27 - cmdstanpy - INFO - Chain [1] start processing\n",
      "07:13:28 - cmdstanpy - INFO - Chain [1] done processing\n"
     ]
    },
    {
     "name": "stdout",
     "output_type": "stream",
     "text": [
      "Errors :-\n",
      "MSE :  2324890.8522191136\n",
      "RMSE :  1524.7592768103145 \n",
      "\n",
      "Root Mean Squre Error(RMSE)------------------------------------ 1524.7592768103145\n",
      "41   {'changepoint_prior_scale': 10, 'n_changepoints': 25, 'seasonality_prior_scale': 0.05}\n"
     ]
    },
    {
     "name": "stderr",
     "output_type": "stream",
     "text": [
      "07:13:29 - cmdstanpy - INFO - Chain [1] start processing\n",
      "07:13:31 - cmdstanpy - INFO - Chain [1] done processing\n"
     ]
    },
    {
     "name": "stdout",
     "output_type": "stream",
     "text": [
      "Errors :-\n",
      "MSE :  2577678.102728725\n",
      "RMSE :  1605.5149026803597 \n",
      "\n",
      "Root Mean Squre Error(RMSE)------------------------------------ 1605.5149026803597\n",
      "42   {'changepoint_prior_scale': 10, 'n_changepoints': 25, 'seasonality_prior_scale': 1}\n"
     ]
    },
    {
     "name": "stderr",
     "output_type": "stream",
     "text": [
      "07:13:33 - cmdstanpy - INFO - Chain [1] start processing\n",
      "07:13:34 - cmdstanpy - INFO - Chain [1] done processing\n"
     ]
    },
    {
     "name": "stdout",
     "output_type": "stream",
     "text": [
      "Errors :-\n",
      "MSE :  2586720.738445845\n",
      "RMSE :  1608.3285542593107 \n",
      "\n",
      "Root Mean Squre Error(RMSE)------------------------------------ 1608.3285542593107\n",
      "43   {'changepoint_prior_scale': 10, 'n_changepoints': 25, 'seasonality_prior_scale': 10}\n"
     ]
    },
    {
     "name": "stderr",
     "output_type": "stream",
     "text": [
      "07:13:36 - cmdstanpy - INFO - Chain [1] start processing\n",
      "07:13:38 - cmdstanpy - INFO - Chain [1] done processing\n"
     ]
    },
    {
     "name": "stdout",
     "output_type": "stream",
     "text": [
      "Errors :-\n",
      "MSE :  2586705.4408411514\n",
      "RMSE :  1608.3237985061191 \n",
      "\n",
      "Root Mean Squre Error(RMSE)------------------------------------ 1608.3237985061191\n",
      "44   {'changepoint_prior_scale': 10, 'n_changepoints': 25, 'seasonality_prior_scale': 25}\n"
     ]
    },
    {
     "name": "stderr",
     "output_type": "stream",
     "text": [
      "07:13:39 - cmdstanpy - INFO - Chain [1] start processing\n",
      "07:13:41 - cmdstanpy - INFO - Chain [1] done processing\n"
     ]
    },
    {
     "name": "stdout",
     "output_type": "stream",
     "text": [
      "Errors :-\n",
      "MSE :  2584535.267338453\n",
      "RMSE :  1607.648987602223 \n",
      "\n",
      "Root Mean Squre Error(RMSE)------------------------------------ 1607.648987602223\n",
      "45   {'changepoint_prior_scale': 10, 'n_changepoints': 100, 'seasonality_prior_scale': 0.05}\n"
     ]
    },
    {
     "name": "stderr",
     "output_type": "stream",
     "text": [
      "07:13:42 - cmdstanpy - INFO - Chain [1] start processing\n",
      "07:14:00 - cmdstanpy - INFO - Chain [1] done processing\n"
     ]
    },
    {
     "name": "stdout",
     "output_type": "stream",
     "text": [
      "Errors :-\n",
      "MSE :  2809069.625763874\n",
      "RMSE :  1676.0279310810647 \n",
      "\n",
      "Root Mean Squre Error(RMSE)------------------------------------ 1676.0279310810647\n",
      "46   {'changepoint_prior_scale': 10, 'n_changepoints': 100, 'seasonality_prior_scale': 1}\n"
     ]
    },
    {
     "name": "stderr",
     "output_type": "stream",
     "text": [
      "07:14:03 - cmdstanpy - INFO - Chain [1] start processing\n",
      "07:14:21 - cmdstanpy - INFO - Chain [1] done processing\n"
     ]
    },
    {
     "name": "stdout",
     "output_type": "stream",
     "text": [
      "Errors :-\n",
      "MSE :  2871857.620749549\n",
      "RMSE :  1694.6556053515856 \n",
      "\n",
      "Root Mean Squre Error(RMSE)------------------------------------ 1694.6556053515856\n",
      "47   {'changepoint_prior_scale': 10, 'n_changepoints': 100, 'seasonality_prior_scale': 10}\n"
     ]
    },
    {
     "name": "stderr",
     "output_type": "stream",
     "text": [
      "07:14:23 - cmdstanpy - INFO - Chain [1] start processing\n",
      "07:14:42 - cmdstanpy - INFO - Chain [1] done processing\n"
     ]
    },
    {
     "name": "stdout",
     "output_type": "stream",
     "text": [
      "Errors :-\n",
      "MSE :  2787005.538172366\n",
      "RMSE :  1669.4326995037463 \n",
      "\n",
      "Root Mean Squre Error(RMSE)------------------------------------ 1669.4326995037463\n",
      "48   {'changepoint_prior_scale': 10, 'n_changepoints': 100, 'seasonality_prior_scale': 25}\n"
     ]
    },
    {
     "name": "stderr",
     "output_type": "stream",
     "text": [
      "07:14:44 - cmdstanpy - INFO - Chain [1] start processing\n",
      "07:15:03 - cmdstanpy - INFO - Chain [1] done processing\n"
     ]
    },
    {
     "name": "stdout",
     "output_type": "stream",
     "text": [
      "Errors :-\n",
      "MSE :  2821432.9489727113\n",
      "RMSE :  1679.7121625364005 \n",
      "\n",
      "Root Mean Squre Error(RMSE)------------------------------------ 1679.7121625364005\n",
      "49   {'changepoint_prior_scale': 25, 'n_changepoints': 1, 'seasonality_prior_scale': 0.05}\n"
     ]
    },
    {
     "name": "stderr",
     "output_type": "stream",
     "text": [
      "07:15:05 - cmdstanpy - INFO - Chain [1] start processing\n",
      "07:15:05 - cmdstanpy - INFO - Chain [1] done processing\n"
     ]
    },
    {
     "name": "stdout",
     "output_type": "stream",
     "text": [
      "Errors :-\n",
      "MSE :  3908045.641383318\n",
      "RMSE :  1976.8777507431557 \n",
      "\n",
      "Root Mean Squre Error(RMSE)------------------------------------ 1976.8777507431557\n",
      "50   {'changepoint_prior_scale': 25, 'n_changepoints': 1, 'seasonality_prior_scale': 1}\n"
     ]
    },
    {
     "name": "stderr",
     "output_type": "stream",
     "text": [
      "07:15:06 - cmdstanpy - INFO - Chain [1] start processing\n",
      "07:15:06 - cmdstanpy - INFO - Chain [1] done processing\n"
     ]
    },
    {
     "name": "stdout",
     "output_type": "stream",
     "text": [
      "Errors :-\n",
      "MSE :  3904615.246206076\n",
      "RMSE :  1976.0099306952068 \n",
      "\n",
      "Root Mean Squre Error(RMSE)------------------------------------ 1976.0099306952068\n",
      "51   {'changepoint_prior_scale': 25, 'n_changepoints': 1, 'seasonality_prior_scale': 10}\n"
     ]
    },
    {
     "name": "stderr",
     "output_type": "stream",
     "text": [
      "07:15:08 - cmdstanpy - INFO - Chain [1] start processing\n",
      "07:15:08 - cmdstanpy - INFO - Chain [1] done processing\n"
     ]
    },
    {
     "name": "stdout",
     "output_type": "stream",
     "text": [
      "Errors :-\n",
      "MSE :  3903904.3777866005\n",
      "RMSE :  1975.830047799304 \n",
      "\n",
      "Root Mean Squre Error(RMSE)------------------------------------ 1975.830047799304\n",
      "52   {'changepoint_prior_scale': 25, 'n_changepoints': 1, 'seasonality_prior_scale': 25}\n"
     ]
    },
    {
     "name": "stderr",
     "output_type": "stream",
     "text": [
      "07:15:09 - cmdstanpy - INFO - Chain [1] start processing\n",
      "07:15:09 - cmdstanpy - INFO - Chain [1] done processing\n"
     ]
    },
    {
     "name": "stdout",
     "output_type": "stream",
     "text": [
      "Errors :-\n",
      "MSE :  3907620.299628624\n",
      "RMSE :  1976.7701686409132 \n",
      "\n",
      "Root Mean Squre Error(RMSE)------------------------------------ 1976.7701686409132\n",
      "53   {'changepoint_prior_scale': 25, 'n_changepoints': 10, 'seasonality_prior_scale': 0.05}\n"
     ]
    },
    {
     "name": "stderr",
     "output_type": "stream",
     "text": [
      "07:15:10 - cmdstanpy - INFO - Chain [1] start processing\n",
      "07:15:10 - cmdstanpy - INFO - Chain [1] done processing\n"
     ]
    },
    {
     "name": "stdout",
     "output_type": "stream",
     "text": [
      "Errors :-\n",
      "MSE :  2322585.2074156497\n",
      "RMSE :  1524.0030208026656 \n",
      "\n",
      "Root Mean Squre Error(RMSE)------------------------------------ 1524.0030208026656\n",
      "54   {'changepoint_prior_scale': 25, 'n_changepoints': 10, 'seasonality_prior_scale': 1}\n"
     ]
    },
    {
     "name": "stderr",
     "output_type": "stream",
     "text": [
      "07:15:12 - cmdstanpy - INFO - Chain [1] start processing\n",
      "07:15:12 - cmdstanpy - INFO - Chain [1] done processing\n"
     ]
    },
    {
     "name": "stdout",
     "output_type": "stream",
     "text": [
      "Errors :-\n",
      "MSE :  2325250.0707511646\n",
      "RMSE :  1524.8770674225398 \n",
      "\n",
      "Root Mean Squre Error(RMSE)------------------------------------ 1524.8770674225398\n",
      "55   {'changepoint_prior_scale': 25, 'n_changepoints': 10, 'seasonality_prior_scale': 10}\n"
     ]
    },
    {
     "name": "stderr",
     "output_type": "stream",
     "text": [
      "07:15:13 - cmdstanpy - INFO - Chain [1] start processing\n",
      "07:15:14 - cmdstanpy - INFO - Chain [1] done processing\n"
     ]
    },
    {
     "name": "stdout",
     "output_type": "stream",
     "text": [
      "Errors :-\n",
      "MSE :  2325371.7699757083\n",
      "RMSE :  1524.9169715022874 \n",
      "\n",
      "Root Mean Squre Error(RMSE)------------------------------------ 1524.9169715022874\n",
      "56   {'changepoint_prior_scale': 25, 'n_changepoints': 10, 'seasonality_prior_scale': 25}\n"
     ]
    },
    {
     "name": "stderr",
     "output_type": "stream",
     "text": [
      "07:15:15 - cmdstanpy - INFO - Chain [1] start processing\n",
      "07:15:15 - cmdstanpy - INFO - Chain [1] done processing\n"
     ]
    },
    {
     "name": "stdout",
     "output_type": "stream",
     "text": [
      "Errors :-\n",
      "MSE :  2325891.3556494224\n",
      "RMSE :  1525.08732722078 \n",
      "\n",
      "Root Mean Squre Error(RMSE)------------------------------------ 1525.08732722078\n",
      "57   {'changepoint_prior_scale': 25, 'n_changepoints': 25, 'seasonality_prior_scale': 0.05}\n"
     ]
    },
    {
     "name": "stderr",
     "output_type": "stream",
     "text": [
      "07:15:16 - cmdstanpy - INFO - Chain [1] start processing\n",
      "07:15:18 - cmdstanpy - INFO - Chain [1] done processing\n"
     ]
    },
    {
     "name": "stdout",
     "output_type": "stream",
     "text": [
      "Errors :-\n",
      "MSE :  2574367.9784282143\n",
      "RMSE :  1604.4837108640943 \n",
      "\n",
      "Root Mean Squre Error(RMSE)------------------------------------ 1604.4837108640943\n",
      "58   {'changepoint_prior_scale': 25, 'n_changepoints': 25, 'seasonality_prior_scale': 1}\n"
     ]
    },
    {
     "name": "stderr",
     "output_type": "stream",
     "text": [
      "07:15:20 - cmdstanpy - INFO - Chain [1] start processing\n",
      "07:15:22 - cmdstanpy - INFO - Chain [1] done processing\n"
     ]
    },
    {
     "name": "stdout",
     "output_type": "stream",
     "text": [
      "Errors :-\n",
      "MSE :  2585150.6412081528\n",
      "RMSE :  1607.8403655861339 \n",
      "\n",
      "Root Mean Squre Error(RMSE)------------------------------------ 1607.8403655861339\n",
      "59   {'changepoint_prior_scale': 25, 'n_changepoints': 25, 'seasonality_prior_scale': 10}\n"
     ]
    },
    {
     "name": "stderr",
     "output_type": "stream",
     "text": [
      "07:15:23 - cmdstanpy - INFO - Chain [1] start processing\n",
      "07:15:25 - cmdstanpy - INFO - Chain [1] done processing\n"
     ]
    },
    {
     "name": "stdout",
     "output_type": "stream",
     "text": [
      "Errors :-\n",
      "MSE :  2580721.601925619\n",
      "RMSE :  1606.4624495846826 \n",
      "\n",
      "Root Mean Squre Error(RMSE)------------------------------------ 1606.4624495846826\n",
      "60   {'changepoint_prior_scale': 25, 'n_changepoints': 25, 'seasonality_prior_scale': 25}\n"
     ]
    },
    {
     "name": "stderr",
     "output_type": "stream",
     "text": [
      "07:15:26 - cmdstanpy - INFO - Chain [1] start processing\n",
      "07:15:28 - cmdstanpy - INFO - Chain [1] done processing\n"
     ]
    },
    {
     "name": "stdout",
     "output_type": "stream",
     "text": [
      "Errors :-\n",
      "MSE :  2573842.1173766144\n",
      "RMSE :  1604.3198301388081 \n",
      "\n",
      "Root Mean Squre Error(RMSE)------------------------------------ 1604.3198301388081\n",
      "61   {'changepoint_prior_scale': 25, 'n_changepoints': 100, 'seasonality_prior_scale': 0.05}\n"
     ]
    },
    {
     "name": "stderr",
     "output_type": "stream",
     "text": [
      "07:15:29 - cmdstanpy - INFO - Chain [1] start processing\n",
      "07:15:49 - cmdstanpy - INFO - Chain [1] done processing\n"
     ]
    },
    {
     "name": "stdout",
     "output_type": "stream",
     "text": [
      "Errors :-\n",
      "MSE :  2718664.9893575655\n",
      "RMSE :  1648.8374660219138 \n",
      "\n",
      "Root Mean Squre Error(RMSE)------------------------------------ 1648.8374660219138\n",
      "62   {'changepoint_prior_scale': 25, 'n_changepoints': 100, 'seasonality_prior_scale': 1}\n"
     ]
    },
    {
     "name": "stderr",
     "output_type": "stream",
     "text": [
      "07:15:51 - cmdstanpy - INFO - Chain [1] start processing\n",
      "07:16:10 - cmdstanpy - INFO - Chain [1] done processing\n"
     ]
    },
    {
     "name": "stdout",
     "output_type": "stream",
     "text": [
      "Errors :-\n",
      "MSE :  2820777.2167774867\n",
      "RMSE :  1679.516959359889 \n",
      "\n",
      "Root Mean Squre Error(RMSE)------------------------------------ 1679.516959359889\n",
      "63   {'changepoint_prior_scale': 25, 'n_changepoints': 100, 'seasonality_prior_scale': 10}\n"
     ]
    },
    {
     "name": "stderr",
     "output_type": "stream",
     "text": [
      "07:16:12 - cmdstanpy - INFO - Chain [1] start processing\n",
      "07:16:31 - cmdstanpy - INFO - Chain [1] done processing\n"
     ]
    },
    {
     "name": "stdout",
     "output_type": "stream",
     "text": [
      "Errors :-\n",
      "MSE :  2834400.6481799153\n",
      "RMSE :  1683.5678329606785 \n",
      "\n",
      "Root Mean Squre Error(RMSE)------------------------------------ 1683.5678329606785\n",
      "64   {'changepoint_prior_scale': 25, 'n_changepoints': 100, 'seasonality_prior_scale': 25}\n"
     ]
    },
    {
     "name": "stderr",
     "output_type": "stream",
     "text": [
      "07:16:33 - cmdstanpy - INFO - Chain [1] start processing\n",
      "07:16:53 - cmdstanpy - INFO - Chain [1] done processing\n"
     ]
    },
    {
     "name": "stdout",
     "output_type": "stream",
     "text": [
      "Errors :-\n",
      "MSE :  2803193.2714256216\n",
      "RMSE :  1674.2739535170526 \n",
      "\n",
      "Root Mean Squre Error(RMSE)------------------------------------ 1674.2739535170526\n"
     ]
    }
   ],
   "source": [
    "model_parameters = pd.DataFrame(columns = ['Parameters','MSE','RMSE'])\n",
    "i = 1\n",
    "for p in grid:\n",
    "    test = pd.DataFrame()\n",
    "    print(i,' ',p)\n",
    "    i = i+1\n",
    "    random.seed(0)\n",
    "    train_model =Prophet(freq='B', \n",
    "                         changepoint_prior_scale = p['changepoint_prior_scale'],\n",
    "                         n_changepoints = p['n_changepoints'],\n",
    "                         seasonality_mode = 'multiplicative',\n",
    "                         seasonality_prior_scale=p['seasonality_prior_scale'],\n",
    "                         weekly_seasonality=False,\n",
    "                         daily_seasonality = False,\n",
    "                         yearly_seasonality = True,\n",
    "                         add_country_holidays={'country_name': 'India'}, holidays=holiday)\n",
    "    train_model.fit(train_data_minmax)\n",
    "    fh = list(range(1,653))\n",
    "    test_predictions = train_model.predict(fh=fh)\n",
    "    test_predictions=scaler.inverse_transform(test_predictions)\n",
    "    mse, rmse = error(test_data['Close'],test_predictions)\n",
    "    print('Root Mean Squre Error(RMSE)------------------------------------',rmse)\n",
    "    model_parameters = model_parameters.append({'Parameters':p, 'MSE':mse, 'RMSE':rmse},ignore_index=True)"
   ]
  },
  {
   "cell_type": "code",
   "execution_count": 41,
   "id": "3c3be9d2",
   "metadata": {},
   "outputs": [
    {
     "data": {
      "text/plain": [
       "64"
      ]
     },
     "execution_count": 41,
     "metadata": {},
     "output_type": "execute_result"
    }
   ],
   "source": [
    "len(grid)"
   ]
  },
  {
   "cell_type": "code",
   "execution_count": 42,
   "id": "f1734622",
   "metadata": {},
   "outputs": [
    {
     "data": {
      "text/html": [
       "<div>\n",
       "<style scoped>\n",
       "    .dataframe tbody tr th:only-of-type {\n",
       "        vertical-align: middle;\n",
       "    }\n",
       "\n",
       "    .dataframe tbody tr th {\n",
       "        vertical-align: top;\n",
       "    }\n",
       "\n",
       "    .dataframe thead th {\n",
       "        text-align: right;\n",
       "    }\n",
       "</style>\n",
       "<table border=\"1\" class=\"dataframe\">\n",
       "  <thead>\n",
       "    <tr style=\"text-align: right;\">\n",
       "      <th></th>\n",
       "      <th>Parameters</th>\n",
       "      <th>MSE</th>\n",
       "      <th>RMSE</th>\n",
       "    </tr>\n",
       "  </thead>\n",
       "  <tbody>\n",
       "    <tr>\n",
       "      <th>0</th>\n",
       "      <td>{'changepoint_prior_scale': 10, 'n_changepoint...</td>\n",
       "      <td>2322545.704729</td>\n",
       "      <td>1523.990061</td>\n",
       "    </tr>\n",
       "    <tr>\n",
       "      <th>1</th>\n",
       "      <td>{'changepoint_prior_scale': 25, 'n_changepoint...</td>\n",
       "      <td>2322585.207416</td>\n",
       "      <td>1524.003021</td>\n",
       "    </tr>\n",
       "    <tr>\n",
       "      <th>2</th>\n",
       "      <td>{'changepoint_prior_scale': 1, 'n_changepoints...</td>\n",
       "      <td>2323080.704874</td>\n",
       "      <td>1524.165577</td>\n",
       "    </tr>\n",
       "    <tr>\n",
       "      <th>3</th>\n",
       "      <td>{'changepoint_prior_scale': 1, 'n_changepoints...</td>\n",
       "      <td>2324535.790711</td>\n",
       "      <td>1524.64284</td>\n",
       "    </tr>\n",
       "    <tr>\n",
       "      <th>4</th>\n",
       "      <td>{'changepoint_prior_scale': 10, 'n_changepoint...</td>\n",
       "      <td>2324890.852219</td>\n",
       "      <td>1524.759277</td>\n",
       "    </tr>\n",
       "  </tbody>\n",
       "</table>\n",
       "</div>"
      ],
      "text/plain": [
       "                                          Parameters             MSE  \\\n",
       "0  {'changepoint_prior_scale': 10, 'n_changepoint...  2322545.704729   \n",
       "1  {'changepoint_prior_scale': 25, 'n_changepoint...  2322585.207416   \n",
       "2  {'changepoint_prior_scale': 1, 'n_changepoints...  2323080.704874   \n",
       "3  {'changepoint_prior_scale': 1, 'n_changepoints...  2324535.790711   \n",
       "4  {'changepoint_prior_scale': 10, 'n_changepoint...  2324890.852219   \n",
       "\n",
       "          RMSE  \n",
       "0  1523.990061  \n",
       "1  1524.003021  \n",
       "2  1524.165577  \n",
       "3   1524.64284  \n",
       "4  1524.759277  "
      ]
     },
     "execution_count": 42,
     "metadata": {},
     "output_type": "execute_result"
    }
   ],
   "source": [
    "parameters = model_parameters.sort_values(by=['RMSE'])\n",
    "parameters = parameters.reset_index(drop=True)\n",
    "parameters.head()"
   ]
  },
  {
   "cell_type": "code",
   "execution_count": 43,
   "id": "0a3941e4",
   "metadata": {},
   "outputs": [
    {
     "data": {
      "text/plain": [
       "{'changepoint_prior_scale': 10,\n",
       " 'n_changepoints': 10,\n",
       " 'seasonality_prior_scale': 0.05}"
      ]
     },
     "execution_count": 43,
     "metadata": {},
     "output_type": "execute_result"
    }
   ],
   "source": [
    "parameters['Parameters'][0]"
   ]
  },
  {
   "cell_type": "code",
   "execution_count": 44,
   "id": "5365623b",
   "metadata": {},
   "outputs": [
    {
     "name": "stderr",
     "output_type": "stream",
     "text": [
      "07:17:10 - cmdstanpy - INFO - Chain [1] start processing\n",
      "07:17:10 - cmdstanpy - INFO - Chain [1] done processing\n"
     ]
    },
    {
     "data": {
      "text/plain": [
       "Prophet(add_country_holidays={'country_name': 'India'},\n",
       "        changepoint_prior_scale=10, daily_seasonality=False, freq='B',\n",
       "        holidays=           ds         holiday\n",
       "0  2011-01-14  India_Holidays\n",
       "1  2011-01-26  India_Holidays\n",
       "2  2011-03-19  India_Holidays\n",
       "3  2011-05-01  India_Holidays\n",
       "4  2011-08-15  India_Holidays\n",
       "..        ...             ...\n",
       "87 2021-12-25  India_Holidays\n",
       "88 2022-01-14  India_Holidays\n",
       "89 2022-01-26  India_Holidays\n",
       "90 2022-03-18  India_Holidays\n",
       "91 2022-05-01  India_Holidays\n",
       "\n",
       "[92 rows x 2 columns],\n",
       "        n_changepoints=10, seasonality_mode='multiplicative',\n",
       "        seasonality_prior_scale=0.05, verbose=10, weekly_seasonality=False,\n",
       "        yearly_seasonality=True)"
      ]
     },
     "execution_count": 44,
     "metadata": {},
     "output_type": "execute_result"
    }
   ],
   "source": [
    "Pro_model = Prophet(freq='B', seasonality_mode='multiplicative', \n",
    "                    changepoint_prior_scale=parameters['Parameters'][0]['changepoint_prior_scale'], \n",
    "                    n_changepoints=parameters['Parameters'][0]['n_changepoints'], \n",
    "                    seasonality_prior_scale=parameters['Parameters'][0]['seasonality_prior_scale'], \n",
    "                    add_country_holidays={'country_name': 'India'}, verbose=10,\n",
    "                    holidays=holiday,\n",
    "                    yearly_seasonality=True, weekly_seasonality=False , daily_seasonality=False)\n",
    "Pro_model.fit(train_data_minmax)"
   ]
  },
  {
   "cell_type": "code",
   "execution_count": 45,
   "id": "b0ee9574",
   "metadata": {},
   "outputs": [
    {
     "data": {
      "text/html": [
       "<div>\n",
       "<style scoped>\n",
       "    .dataframe tbody tr th:only-of-type {\n",
       "        vertical-align: middle;\n",
       "    }\n",
       "\n",
       "    .dataframe tbody tr th {\n",
       "        vertical-align: top;\n",
       "    }\n",
       "\n",
       "    .dataframe thead th {\n",
       "        text-align: right;\n",
       "    }\n",
       "</style>\n",
       "<table border=\"1\" class=\"dataframe\">\n",
       "  <thead>\n",
       "    <tr style=\"text-align: right;\">\n",
       "      <th></th>\n",
       "      <th>close</th>\n",
       "    </tr>\n",
       "  </thead>\n",
       "  <tbody>\n",
       "    <tr>\n",
       "      <th>2020-01-01</th>\n",
       "      <td>0.901530</td>\n",
       "    </tr>\n",
       "    <tr>\n",
       "      <th>2020-01-02</th>\n",
       "      <td>0.900125</td>\n",
       "    </tr>\n",
       "    <tr>\n",
       "      <th>2020-01-03</th>\n",
       "      <td>0.898556</td>\n",
       "    </tr>\n",
       "    <tr>\n",
       "      <th>2020-01-06</th>\n",
       "      <td>0.894734</td>\n",
       "    </tr>\n",
       "    <tr>\n",
       "      <th>2020-01-07</th>\n",
       "      <td>0.893811</td>\n",
       "    </tr>\n",
       "    <tr>\n",
       "      <th>...</th>\n",
       "      <td>...</td>\n",
       "    </tr>\n",
       "    <tr>\n",
       "      <th>2022-06-24</th>\n",
       "      <td>1.471435</td>\n",
       "    </tr>\n",
       "    <tr>\n",
       "      <th>2022-06-27</th>\n",
       "      <td>1.475125</td>\n",
       "    </tr>\n",
       "    <tr>\n",
       "      <th>2022-06-28</th>\n",
       "      <td>1.476545</td>\n",
       "    </tr>\n",
       "    <tr>\n",
       "      <th>2022-06-29</th>\n",
       "      <td>1.478021</td>\n",
       "    </tr>\n",
       "    <tr>\n",
       "      <th>2022-06-30</th>\n",
       "      <td>1.479523</td>\n",
       "    </tr>\n",
       "  </tbody>\n",
       "</table>\n",
       "<p>652 rows × 1 columns</p>\n",
       "</div>"
      ],
      "text/plain": [
       "               close\n",
       "2020-01-01  0.901530\n",
       "2020-01-02  0.900125\n",
       "2020-01-03  0.898556\n",
       "2020-01-06  0.894734\n",
       "2020-01-07  0.893811\n",
       "...              ...\n",
       "2022-06-24  1.471435\n",
       "2022-06-27  1.475125\n",
       "2022-06-28  1.476545\n",
       "2022-06-29  1.478021\n",
       "2022-06-30  1.479523\n",
       "\n",
       "[652 rows x 1 columns]"
      ]
     },
     "execution_count": 45,
     "metadata": {},
     "output_type": "execute_result"
    }
   ],
   "source": [
    "fh = list(range(1,653))\n",
    "# fh1 = pd.DatetimeIndex(np.array(test_data.index))\n",
    "# fh1\n",
    "test_predictions_minmax = Pro_model.predict(fh=fh)\n",
    "test_predictions_minmax"
   ]
  },
  {
   "cell_type": "code",
   "execution_count": 46,
   "id": "aac06fa9",
   "metadata": {},
   "outputs": [
    {
     "data": {
      "text/html": [
       "<div>\n",
       "<style scoped>\n",
       "    .dataframe tbody tr th:only-of-type {\n",
       "        vertical-align: middle;\n",
       "    }\n",
       "\n",
       "    .dataframe tbody tr th {\n",
       "        vertical-align: top;\n",
       "    }\n",
       "\n",
       "    .dataframe thead th {\n",
       "        text-align: right;\n",
       "    }\n",
       "</style>\n",
       "<table border=\"1\" class=\"dataframe\">\n",
       "  <thead>\n",
       "    <tr style=\"text-align: right;\">\n",
       "      <th></th>\n",
       "      <th>Close</th>\n",
       "    </tr>\n",
       "    <tr>\n",
       "      <th>Date</th>\n",
       "      <th></th>\n",
       "    </tr>\n",
       "  </thead>\n",
       "  <tbody>\n",
       "    <tr>\n",
       "      <th>2020-01-01</th>\n",
       "      <td>13245.013238</td>\n",
       "    </tr>\n",
       "    <tr>\n",
       "      <th>2020-01-02</th>\n",
       "      <td>13228.661478</td>\n",
       "    </tr>\n",
       "    <tr>\n",
       "      <th>2020-01-03</th>\n",
       "      <td>13210.406857</td>\n",
       "    </tr>\n",
       "    <tr>\n",
       "      <th>2020-01-06</th>\n",
       "      <td>13165.919964</td>\n",
       "    </tr>\n",
       "    <tr>\n",
       "      <th>2020-01-07</th>\n",
       "      <td>13155.187732</td>\n",
       "    </tr>\n",
       "    <tr>\n",
       "      <th>...</th>\n",
       "      <td>...</td>\n",
       "    </tr>\n",
       "    <tr>\n",
       "      <th>2022-06-24</th>\n",
       "      <td>19877.616664</td>\n",
       "    </tr>\n",
       "    <tr>\n",
       "      <th>2022-06-27</th>\n",
       "      <td>19920.553408</td>\n",
       "    </tr>\n",
       "    <tr>\n",
       "      <th>2022-06-28</th>\n",
       "      <td>19937.087631</td>\n",
       "    </tr>\n",
       "    <tr>\n",
       "      <th>2022-06-29</th>\n",
       "      <td>19954.254579</td>\n",
       "    </tr>\n",
       "    <tr>\n",
       "      <th>2022-06-30</th>\n",
       "      <td>19971.740365</td>\n",
       "    </tr>\n",
       "  </tbody>\n",
       "</table>\n",
       "<p>652 rows × 1 columns</p>\n",
       "</div>"
      ],
      "text/plain": [
       "                   Close\n",
       "Date                    \n",
       "2020-01-01  13245.013238\n",
       "2020-01-02  13228.661478\n",
       "2020-01-03  13210.406857\n",
       "2020-01-06  13165.919964\n",
       "2020-01-07  13155.187732\n",
       "...                  ...\n",
       "2022-06-24  19877.616664\n",
       "2022-06-27  19920.553408\n",
       "2022-06-28  19937.087631\n",
       "2022-06-29  19954.254579\n",
       "2022-06-30  19971.740365\n",
       "\n",
       "[652 rows x 1 columns]"
      ]
     },
     "execution_count": 46,
     "metadata": {},
     "output_type": "execute_result"
    }
   ],
   "source": [
    "test_predictions=scaler.inverse_transform(test_predictions_minmax)\n",
    "test_predictions = pd.DataFrame(test_predictions, columns = ['Close'])\n",
    "test_predictions.index = test_data.index\n",
    "test_predictions"
   ]
  },
  {
   "cell_type": "code",
   "execution_count": 47,
   "id": "40a2cb82",
   "metadata": {},
   "outputs": [
    {
     "data": {
      "image/png": "[encoded data removed]"
     },
     "metadata": {},
     "output_type": "display_data"
    }
   ],
   "source": [
    "fig = go.Figure()\n",
    "\n",
    "fig.add_trace(go.Scatter(x=train_data.index, y=train_data['Close'], mode='lines', name='TRAIN'))\n",
    "fig.add_trace(go.Scatter(x=test_data.index, y=test_data['Close'], mode='lines', name='TEST'))\n",
    "fig.add_trace(go.Scatter(x=test_predictions.index, y=test_predictions['Close'], mode='lines', name='PREDICTION'))\n",
    "\n",
    "fig.update_layout(title_text='Forecast vs Actuals', title_x=0.5)\n",
    "fig.show()"
   ]
  },
  {
   "cell_type": "markdown",
   "id": "3cc30d81",
   "metadata": {},
   "source": [
    "# Auto Ensemble Forecaster"
   ]
  },
  {
   "cell_type": "code",
   "execution_count": 48,
   "id": "49c5bb0d",
   "metadata": {},
   "outputs": [],
   "source": [
    "from sktime.forecasting.compose import AutoEnsembleForecaster"
   ]
  },
  {
   "cell_type": "code",
   "execution_count": 49,
   "id": "1091a743",
   "metadata": {},
   "outputs": [],
   "source": [
    "from sktime.forecasting.exp_smoothing import ExponentialSmoothing\n",
    "from sktime.forecasting.fbprophet import Prophet"
   ]
  },
  {
   "cell_type": "code",
   "execution_count": 50,
   "id": "9cbe333f",
   "metadata": {},
   "outputs": [],
   "source": [
    "Pro_model = Prophet(freq='B', seasonality_mode='multiplicative', \n",
    "                    changepoint_prior_scale=25, \n",
    "                    n_changepoints=10, \n",
    "                    seasonality_prior_scale=0.05, \n",
    "                    add_country_holidays={'country_name': 'India'}, verbose=10,\n",
    "                    holidays=holiday,\n",
    "                    yearly_seasonality=True, weekly_seasonality=False , daily_seasonality=False)\n",
    "# Pro_model.fit(train_data)"
   ]
  },
  {
   "cell_type": "code",
   "execution_count": 51,
   "id": "fa7d2c69",
   "metadata": {},
   "outputs": [],
   "source": [
    "Expo_model = ExponentialSmoothing(trend='add',seasonal='mul',sp=262, damped_trend=False)\n",
    "# Expo_model.fit(train_data_minmax)"
   ]
  },
  {
   "cell_type": "code",
   "execution_count": 52,
   "id": "1da52834",
   "metadata": {},
   "outputs": [],
   "source": [
    "forecasters = [\n",
    "    (\"prophet\" , Pro_model),\n",
    "    (\"expo\" , Expo_model)\n",
    "]"
   ]
  },
  {
   "cell_type": "code",
   "execution_count": 53,
   "id": "1a1433b4",
   "metadata": {},
   "outputs": [
    {
     "data": {
      "text/plain": [
       "AutoEnsembleForecaster(forecasters=[('prophet',\n",
       "                                     Prophet(add_country_holidays={'country_name': 'India'},\n",
       "                                             changepoint_prior_scale=25,\n",
       "                                             daily_seasonality=False, freq='B',\n",
       "                                             holidays=           ds         holiday\n",
       "0  2011-01-14  India_Holidays\n",
       "1  2011-01-26  India_Holidays\n",
       "2  2011-03-19  India_Holidays\n",
       "3  2011-05-01  India_Holidays\n",
       "4  2011-08-15  India_Holidays\n",
       "..        ...             ...\n",
       "87 2021-12-25  India_Holidays\n",
       "88 2022-01-14  India_Holidays\n",
       "89 2022-01-26  India_Holidays\n",
       "90 2022-03-18  India_Holidays\n",
       "91 2022-05-01  India_Holidays\n",
       "\n",
       "[92 rows x 2 columns],\n",
       "                                             n_changepoints=10,\n",
       "                                             seasonality_mode='multiplicative',\n",
       "                                             seasonality_prior_scale=0.05,\n",
       "                                             verbose=10,\n",
       "                                             weekly_seasonality=False,\n",
       "                                             yearly_seasonality=True)),\n",
       "                                    ('expo',\n",
       "                                     ExponentialSmoothing(seasonal='mul',\n",
       "                                                          sp=262,\n",
       "                                                          trend='add'))],\n",
       "                       n_jobs=-1, random_state=42)"
      ]
     },
     "execution_count": 53,
     "metadata": {},
     "output_type": "execute_result"
    }
   ],
   "source": [
    "Ensmodel = AutoEnsembleForecaster(forecasters=forecasters, n_jobs=-1, random_state=42)\n",
    "Ensmodel.fit(train_data_minmax)"
   ]
  },
  {
   "cell_type": "code",
   "execution_count": 54,
   "id": "c8720b1e",
   "metadata": {},
   "outputs": [
    {
     "data": {
      "text/html": [
       "<div>\n",
       "<style scoped>\n",
       "    .dataframe tbody tr th:only-of-type {\n",
       "        vertical-align: middle;\n",
       "    }\n",
       "\n",
       "    .dataframe tbody tr th {\n",
       "        vertical-align: top;\n",
       "    }\n",
       "\n",
       "    .dataframe thead th {\n",
       "        text-align: right;\n",
       "    }\n",
       "</style>\n",
       "<table border=\"1\" class=\"dataframe\">\n",
       "  <thead>\n",
       "    <tr style=\"text-align: right;\">\n",
       "      <th></th>\n",
       "      <th>close</th>\n",
       "    </tr>\n",
       "  </thead>\n",
       "  <tbody>\n",
       "    <tr>\n",
       "      <th>2020-01-01</th>\n",
       "      <td>0.963144</td>\n",
       "    </tr>\n",
       "    <tr>\n",
       "      <th>2020-01-02</th>\n",
       "      <td>0.961932</td>\n",
       "    </tr>\n",
       "    <tr>\n",
       "      <th>2020-01-03</th>\n",
       "      <td>0.964523</td>\n",
       "    </tr>\n",
       "    <tr>\n",
       "      <th>2020-01-06</th>\n",
       "      <td>0.973692</td>\n",
       "    </tr>\n",
       "    <tr>\n",
       "      <th>2020-01-07</th>\n",
       "      <td>0.953955</td>\n",
       "    </tr>\n",
       "    <tr>\n",
       "      <th>...</th>\n",
       "      <td>...</td>\n",
       "    </tr>\n",
       "    <tr>\n",
       "      <th>2022-06-24</th>\n",
       "      <td>1.430437</td>\n",
       "    </tr>\n",
       "    <tr>\n",
       "      <th>2022-06-27</th>\n",
       "      <td>1.423085</td>\n",
       "    </tr>\n",
       "    <tr>\n",
       "      <th>2022-06-28</th>\n",
       "      <td>1.434533</td>\n",
       "    </tr>\n",
       "    <tr>\n",
       "      <th>2022-06-29</th>\n",
       "      <td>1.442921</td>\n",
       "    </tr>\n",
       "    <tr>\n",
       "      <th>2022-06-30</th>\n",
       "      <td>1.452230</td>\n",
       "    </tr>\n",
       "  </tbody>\n",
       "</table>\n",
       "<p>652 rows × 1 columns</p>\n",
       "</div>"
      ],
      "text/plain": [
       "               close\n",
       "2020-01-01  0.963144\n",
       "2020-01-02  0.961932\n",
       "2020-01-03  0.964523\n",
       "2020-01-06  0.973692\n",
       "2020-01-07  0.953955\n",
       "...              ...\n",
       "2022-06-24  1.430437\n",
       "2022-06-27  1.423085\n",
       "2022-06-28  1.434533\n",
       "2022-06-29  1.442921\n",
       "2022-06-30  1.452230\n",
       "\n",
       "[652 rows x 1 columns]"
      ]
     },
     "execution_count": 54,
     "metadata": {},
     "output_type": "execute_result"
    }
   ],
   "source": [
    "fh = list(range(1,653))\n",
    "# fh1 = pd.DatetimeIndex(np.array(test_data.index))\n",
    "# fh1\n",
    "test_predictionsEns = Ensmodel.predict(fh=fh)\n",
    "test_predictionsEns"
   ]
  },
  {
   "cell_type": "code",
   "execution_count": 55,
   "id": "c19cdeba",
   "metadata": {},
   "outputs": [
    {
     "data": {
      "text/html": [
       "<div>\n",
       "<style scoped>\n",
       "    .dataframe tbody tr th:only-of-type {\n",
       "        vertical-align: middle;\n",
       "    }\n",
       "\n",
       "    .dataframe tbody tr th {\n",
       "        vertical-align: top;\n",
       "    }\n",
       "\n",
       "    .dataframe thead th {\n",
       "        text-align: right;\n",
       "    }\n",
       "</style>\n",
       "<table border=\"1\" class=\"dataframe\">\n",
       "  <thead>\n",
       "    <tr style=\"text-align: right;\">\n",
       "      <th></th>\n",
       "      <th>Close</th>\n",
       "    </tr>\n",
       "    <tr>\n",
       "      <th>Date</th>\n",
       "      <th></th>\n",
       "    </tr>\n",
       "  </thead>\n",
       "  <tbody>\n",
       "    <tr>\n",
       "      <th>2020-01-01</th>\n",
       "      <td>13962.091623</td>\n",
       "    </tr>\n",
       "    <tr>\n",
       "      <th>2020-01-02</th>\n",
       "      <td>13947.983936</td>\n",
       "    </tr>\n",
       "    <tr>\n",
       "      <th>2020-01-03</th>\n",
       "      <td>13978.132537</td>\n",
       "    </tr>\n",
       "    <tr>\n",
       "      <th>2020-01-06</th>\n",
       "      <td>14084.845524</td>\n",
       "    </tr>\n",
       "    <tr>\n",
       "      <th>2020-01-07</th>\n",
       "      <td>13855.141424</td>\n",
       "    </tr>\n",
       "    <tr>\n",
       "      <th>...</th>\n",
       "      <td>...</td>\n",
       "    </tr>\n",
       "    <tr>\n",
       "      <th>2022-06-24</th>\n",
       "      <td>19400.475365</td>\n",
       "    </tr>\n",
       "    <tr>\n",
       "      <th>2022-06-27</th>\n",
       "      <td>19314.912926</td>\n",
       "    </tr>\n",
       "    <tr>\n",
       "      <th>2022-06-28</th>\n",
       "      <td>19448.143424</td>\n",
       "    </tr>\n",
       "    <tr>\n",
       "      <th>2022-06-29</th>\n",
       "      <td>19545.759608</td>\n",
       "    </tr>\n",
       "    <tr>\n",
       "      <th>2022-06-30</th>\n",
       "      <td>19654.099959</td>\n",
       "    </tr>\n",
       "  </tbody>\n",
       "</table>\n",
       "<p>652 rows × 1 columns</p>\n",
       "</div>"
      ],
      "text/plain": [
       "                   Close\n",
       "Date                    \n",
       "2020-01-01  13962.091623\n",
       "2020-01-02  13947.983936\n",
       "2020-01-03  13978.132537\n",
       "2020-01-06  14084.845524\n",
       "2020-01-07  13855.141424\n",
       "...                  ...\n",
       "2022-06-24  19400.475365\n",
       "2022-06-27  19314.912926\n",
       "2022-06-28  19448.143424\n",
       "2022-06-29  19545.759608\n",
       "2022-06-30  19654.099959\n",
       "\n",
       "[652 rows x 1 columns]"
      ]
     },
     "execution_count": 55,
     "metadata": {},
     "output_type": "execute_result"
    }
   ],
   "source": [
    "test_predictions=scaler.inverse_transform(test_predictionsEns)\n",
    "test_predictions = pd.DataFrame(test_predictions, columns = ['Close'])\n",
    "test_predictions.index = test_data.index\n",
    "test_predictions"
   ]
  },
  {
   "cell_type": "code",
   "execution_count": 56,
   "id": "17f5e6c3",
   "metadata": {
    "scrolled": false
   },
   "outputs": [
    {
     "data": {
      "image/png": "[encoded data removed]"
     },
     "metadata": {},
     "output_type": "display_data"
    }
   ],
   "source": [
    "fig = go.Figure()\n",
    "\n",
    "fig.add_trace(go.Scatter(x=train_data.index, y=train_data['Close'], mode='lines', name='TRAIN'))\n",
    "fig.add_trace(go.Scatter(x=test_data.index, y=test_data['Close'], mode='lines', name='TEST'))\n",
    "fig.add_trace(go.Scatter(x=test_predictions.index, y=test_predictions['Close'], mode='lines', name='PREDICTION'))\n",
    "\n",
    "fig.update_layout(title_text='Forecast vs Actuals', title_x=0.5)\n",
    "fig.show()"
   ]
  },
  {
   "cell_type": "code",
   "execution_count": 59,
   "id": "5ab22cde",
   "metadata": {},
   "outputs": [
    {
     "name": "stdout",
     "output_type": "stream",
     "text": [
      "Errors :-\n",
      "MSE :  1524639.5937365696\n",
      "RMSE :  1234.7629706695004 \n",
      "\n"
     ]
    }
   ],
   "source": [
    "mse, rmse = error(test_data['Close'],test_predictions)"
   ]
  }
 ],
 "metadata": {
  "kernelspec": {
   "display_name": "Python 3 (ipykernel)",
   "language": "python",
   "name": "python3"
  },
  "language_info": {
   "codemirror_mode": {
    "name": "ipython",
    "version": 3
   },
   "file_extension": ".py",
   "mimetype": "text/x-python",
   "name": "python",
   "nbconvert_exporter": "python",
   "pygments_lexer": "ipython3",
   "version": "3.9.12"
  }
 },
 "nbformat": 4,
 "nbformat_minor": 5
}
